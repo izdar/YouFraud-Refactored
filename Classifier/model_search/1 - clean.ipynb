{
 "cells": [
  {
   "cell_type": "code",
   "execution_count": 1,
   "metadata": {},
   "outputs": [],
   "source": [
    "import numpy as np\n",
    "import pandas as pd\n",
    "import matplotlib.pyplot as plt\n",
    "%matplotlib inline\n",
    "import seaborn as sns\n",
    "sns.set()\n",
    "import json"
   ]
  },
  {
   "cell_type": "code",
   "execution_count": 3,
   "metadata": {},
   "outputs": [
    {
     "name": "stdout",
     "output_type": "stream",
     "text": [
      "(1016, 30)\n"
     ]
    },
    {
     "data": {
      "text/html": [
       "<div>\n",
       "<style scoped>\n",
       "    .dataframe tbody tr th:only-of-type {\n",
       "        vertical-align: middle;\n",
       "    }\n",
       "\n",
       "    .dataframe tbody tr th {\n",
       "        vertical-align: top;\n",
       "    }\n",
       "\n",
       "    .dataframe thead th {\n",
       "        text-align: right;\n",
       "    }\n",
       "</style>\n",
       "<table border=\"1\" class=\"dataframe\">\n",
       "  <thead>\n",
       "    <tr style=\"text-align: right;\">\n",
       "      <th></th>\n",
       "      <th>category</th>\n",
       "      <th>categoryId</th>\n",
       "      <th>channelId</th>\n",
       "      <th>channelTitle</th>\n",
       "      <th>classification</th>\n",
       "      <th>commentCount</th>\n",
       "      <th>comments</th>\n",
       "      <th>commonMal</th>\n",
       "      <th>completeDomains</th>\n",
       "      <th>description</th>\n",
       "      <th>...</th>\n",
       "      <th>mcafeeMediumRisk</th>\n",
       "      <th>mcafeeScannedLink</th>\n",
       "      <th>mcafeeUnverified</th>\n",
       "      <th>redirectedDomains</th>\n",
       "      <th>scannedLink</th>\n",
       "      <th>tags</th>\n",
       "      <th>title</th>\n",
       "      <th>totalMalLinks</th>\n",
       "      <th>videoId</th>\n",
       "      <th>viewCount</th>\n",
       "    </tr>\n",
       "  </thead>\n",
       "  <tbody>\n",
       "    <tr>\n",
       "      <th>0</th>\n",
       "      <td>People &amp; Blogs</td>\n",
       "      <td>22</td>\n",
       "      <td>UCFqanUMpCMh54RmqRFh8hZw</td>\n",
       "      <td>ProfitClicksDelux</td>\n",
       "      <td>f</td>\n",
       "      <td>240</td>\n",
       "      <td>[Well I found free $3421a money making system ...</td>\n",
       "      <td>0.0</td>\n",
       "      <td>[http://www.neobux.com/?r=dirven, http://imgur...</td>\n",
       "      <td>After months of searching for a constant onlin...</td>\n",
       "      <td>...</td>\n",
       "      <td>{}</td>\n",
       "      <td>{'https://imgur.com/NcIH1y8': {'status': 'Cate...</td>\n",
       "      <td>{}</td>\n",
       "      <td>[http://www.neobux.com/?r=dirven, https://imgu...</td>\n",
       "      <td>{'https://imgur.com/NcIH1y8': {'result': 'clea...</td>\n",
       "      <td>[Money (TV Episode), How-to (Media Genre), Bus...</td>\n",
       "      <td>How to make money online just by clicking ads ...</td>\n",
       "      <td>[]</td>\n",
       "      <td>https://www.youtube.com/watch?v=dFotOUq0Z4E</td>\n",
       "      <td>296630</td>\n",
       "    </tr>\n",
       "    <tr>\n",
       "      <th>1</th>\n",
       "      <td>Autos &amp; Vehicles</td>\n",
       "      <td>2</td>\n",
       "      <td>UCfed0SJsJPmv-TTlZfHFWpA</td>\n",
       "      <td>TeCHnical sHarma</td>\n",
       "      <td>f</td>\n",
       "      <td>No commentCount</td>\n",
       "      <td>No comments</td>\n",
       "      <td>0.0</td>\n",
       "      <td>[https://play.google.com/store/apps/details?id...</td>\n",
       "      <td>Hello दोस्तों 😊😊\\n\\nPlease like, share, subscr...</td>\n",
       "      <td>...</td>\n",
       "      <td>{}</td>\n",
       "      <td>{'https://play.google.com/store/apps/details?i...</td>\n",
       "      <td>{}</td>\n",
       "      <td>[https://play.google.com/store/apps/details?id...</td>\n",
       "      <td>{'https://play.google.com/store/apps/details?i...</td>\n",
       "      <td>[Earn Free Money, Make Money with Android App,...</td>\n",
       "      <td>Earn Money by Clicking On  own Android App. Ea...</td>\n",
       "      <td>[]</td>\n",
       "      <td>https://www.youtube.com/watch?v=nz7Fs7YPCIM</td>\n",
       "      <td>169662</td>\n",
       "    </tr>\n",
       "    <tr>\n",
       "      <th>2</th>\n",
       "      <td>How-to &amp; Style</td>\n",
       "      <td>26</td>\n",
       "      <td>UCj2zirDn1hkPKSARbARfeQw</td>\n",
       "      <td>iampauljames</td>\n",
       "      <td>b</td>\n",
       "      <td>242</td>\n",
       "      <td>[Great job Sir!, Paul is it hard to get approv...</td>\n",
       "      <td>0.0</td>\n",
       "      <td>[]</td>\n",
       "      <td>IM Report 360 outlines exactly how you can mak...</td>\n",
       "      <td>...</td>\n",
       "      <td>{}</td>\n",
       "      <td>{}</td>\n",
       "      <td>{}</td>\n",
       "      <td>[]</td>\n",
       "      <td>{}</td>\n",
       "      <td>[Make Money Online, Pay Per Click, Affiliate]</td>\n",
       "      <td>Make Money Online With No Website Using Pay Pe...</td>\n",
       "      <td>[]</td>\n",
       "      <td>https://www.youtube.com/watch?v=JYVTcpIXi_4</td>\n",
       "      <td>206170</td>\n",
       "    </tr>\n",
       "    <tr>\n",
       "      <th>3</th>\n",
       "      <td>How-to &amp; Style</td>\n",
       "      <td>26</td>\n",
       "      <td>UCRfWuSls0R7jQazuddXiPvQ</td>\n",
       "      <td>Tyler Pratt</td>\n",
       "      <td>f</td>\n",
       "      <td>8</td>\n",
       "      <td>[Didn't work, The  real  big  money??   LOL cl...</td>\n",
       "      <td>0.0</td>\n",
       "      <td>[http://go.tylerpratt.com/, http://go.tylerpra...</td>\n",
       "      <td>My #1 Recommendation To Earning Income Online ...</td>\n",
       "      <td>...</td>\n",
       "      <td>{}</td>\n",
       "      <td>{'https://www.facebook.com/tylerprattlive/': {...</td>\n",
       "      <td>{}</td>\n",
       "      <td>[https://go.tylerpratt.com/, https://go.tylerp...</td>\n",
       "      <td>{'https://www.facebook.com/tylerprattlive/': {...</td>\n",
       "      <td>[make money online, tyler pratt, tylerpratt, e...</td>\n",
       "      <td>Easy Side Online Job Clicking Ads and Making M...</td>\n",
       "      <td>[]</td>\n",
       "      <td>https://www.youtube.com/watch?v=H1KmFXp2Ymg</td>\n",
       "      <td>7104</td>\n",
       "    </tr>\n",
       "    <tr>\n",
       "      <th>4</th>\n",
       "      <td>People &amp; Blogs</td>\n",
       "      <td>22</td>\n",
       "      <td>UC4l9z0a-bFvZyX1HAqn270A</td>\n",
       "      <td>Sevendollarclick.com</td>\n",
       "      <td>f</td>\n",
       "      <td>No commentCount</td>\n",
       "      <td>No comments</td>\n",
       "      <td>0.0</td>\n",
       "      <td>[http://www.sevendollarclick.com, https://www....</td>\n",
       "      <td>Click here to start making money: \\nhttp://www...</td>\n",
       "      <td>...</td>\n",
       "      <td>{}</td>\n",
       "      <td>{'https://www.youtube.com/channel/UC4l9z0a-bFv...</td>\n",
       "      <td>{}</td>\n",
       "      <td>[https://sevendollarclick.com/, https://www.yo...</td>\n",
       "      <td>{'https://www.youtube.com/channel/UC4l9z0a-bFv...</td>\n",
       "      <td>[how to make money, how to make money online, ...</td>\n",
       "      <td>Earn Money By Clicking Ads | Earn $7 Per Click...</td>\n",
       "      <td>[]</td>\n",
       "      <td>https://www.youtube.com/watch?v=WBHBZMeywY4</td>\n",
       "      <td>53451</td>\n",
       "    </tr>\n",
       "  </tbody>\n",
       "</table>\n",
       "<p>5 rows × 30 columns</p>\n",
       "</div>"
      ],
      "text/plain": [
       "           category categoryId                 channelId  \\\n",
       "0    People & Blogs         22  UCFqanUMpCMh54RmqRFh8hZw   \n",
       "1  Autos & Vehicles          2  UCfed0SJsJPmv-TTlZfHFWpA   \n",
       "2    How-to & Style         26  UCj2zirDn1hkPKSARbARfeQw   \n",
       "3    How-to & Style         26  UCRfWuSls0R7jQazuddXiPvQ   \n",
       "4    People & Blogs         22  UC4l9z0a-bFvZyX1HAqn270A   \n",
       "\n",
       "           channelTitle classification     commentCount  \\\n",
       "0     ProfitClicksDelux              f              240   \n",
       "1      TeCHnical sHarma              f  No commentCount   \n",
       "2          iampauljames              b              242   \n",
       "3           Tyler Pratt              f                8   \n",
       "4  Sevendollarclick.com              f  No commentCount   \n",
       "\n",
       "                                            comments  commonMal  \\\n",
       "0  [Well I found free $3421a money making system ...        0.0   \n",
       "1                                        No comments        0.0   \n",
       "2  [Great job Sir!, Paul is it hard to get approv...        0.0   \n",
       "3  [Didn't work, The  real  big  money??   LOL cl...        0.0   \n",
       "4                                        No comments        0.0   \n",
       "\n",
       "                                     completeDomains  \\\n",
       "0  [http://www.neobux.com/?r=dirven, http://imgur...   \n",
       "1  [https://play.google.com/store/apps/details?id...   \n",
       "2                                                 []   \n",
       "3  [http://go.tylerpratt.com/, http://go.tylerpra...   \n",
       "4  [http://www.sevendollarclick.com, https://www....   \n",
       "\n",
       "                                         description  ... mcafeeMediumRisk  \\\n",
       "0  After months of searching for a constant onlin...  ...               {}   \n",
       "1  Hello दोस्तों 😊😊\\n\\nPlease like, share, subscr...  ...               {}   \n",
       "2  IM Report 360 outlines exactly how you can mak...  ...               {}   \n",
       "3  My #1 Recommendation To Earning Income Online ...  ...               {}   \n",
       "4  Click here to start making money: \\nhttp://www...  ...               {}   \n",
       "\n",
       "                                   mcafeeScannedLink mcafeeUnverified  \\\n",
       "0  {'https://imgur.com/NcIH1y8': {'status': 'Cate...               {}   \n",
       "1  {'https://play.google.com/store/apps/details?i...               {}   \n",
       "2                                                 {}               {}   \n",
       "3  {'https://www.facebook.com/tylerprattlive/': {...               {}   \n",
       "4  {'https://www.youtube.com/channel/UC4l9z0a-bFv...               {}   \n",
       "\n",
       "                                   redirectedDomains  \\\n",
       "0  [http://www.neobux.com/?r=dirven, https://imgu...   \n",
       "1  [https://play.google.com/store/apps/details?id...   \n",
       "2                                                 []   \n",
       "3  [https://go.tylerpratt.com/, https://go.tylerp...   \n",
       "4  [https://sevendollarclick.com/, https://www.yo...   \n",
       "\n",
       "                                         scannedLink  \\\n",
       "0  {'https://imgur.com/NcIH1y8': {'result': 'clea...   \n",
       "1  {'https://play.google.com/store/apps/details?i...   \n",
       "2                                                 {}   \n",
       "3  {'https://www.facebook.com/tylerprattlive/': {...   \n",
       "4  {'https://www.youtube.com/channel/UC4l9z0a-bFv...   \n",
       "\n",
       "                                                tags  \\\n",
       "0  [Money (TV Episode), How-to (Media Genre), Bus...   \n",
       "1  [Earn Free Money, Make Money with Android App,...   \n",
       "2      [Make Money Online, Pay Per Click, Affiliate]   \n",
       "3  [make money online, tyler pratt, tylerpratt, e...   \n",
       "4  [how to make money, how to make money online, ...   \n",
       "\n",
       "                                               title totalMalLinks  \\\n",
       "0  How to make money online just by clicking ads ...            []   \n",
       "1  Earn Money by Clicking On  own Android App. Ea...            []   \n",
       "2  Make Money Online With No Website Using Pay Pe...            []   \n",
       "3  Easy Side Online Job Clicking Ads and Making M...            []   \n",
       "4  Earn Money By Clicking Ads | Earn $7 Per Click...            []   \n",
       "\n",
       "                                       videoId viewCount  \n",
       "0  https://www.youtube.com/watch?v=dFotOUq0Z4E    296630  \n",
       "1  https://www.youtube.com/watch?v=nz7Fs7YPCIM    169662  \n",
       "2  https://www.youtube.com/watch?v=JYVTcpIXi_4    206170  \n",
       "3  https://www.youtube.com/watch?v=H1KmFXp2Ymg      7104  \n",
       "4  https://www.youtube.com/watch?v=WBHBZMeywY4     53451  \n",
       "\n",
       "[5 rows x 30 columns]"
      ]
     },
     "execution_count": 3,
     "metadata": {},
     "output_type": "execute_result"
    }
   ],
   "source": [
    "df1 = pd.read_json('../../Data Collection/Data Files/dataset.json')\n",
    "with open('../../Data Collection/Data Files/benignData.json') as json_data:\n",
    "    data = json.load(json_data)\n",
    "df2 = pd.DataFrame.from_dict(data, orient='index').T\n",
    "df3 = pd.read_json('../../Data Collection/Data Files/trainData.json')\n",
    "\n",
    "df = pd.concat([df1,df2,df3], sort=True).reset_index(drop=True)\n",
    "\n",
    "df.drop_duplicates('videoId', inplace=True)\n",
    "df.dropna(subset=['classification'], axis=0, inplace=True)\n",
    "df = df[df['classification'].isin(['b','f'])]\n",
    "\n",
    "print(df.shape)\n",
    "df.head()"
   ]
  },
  {
   "cell_type": "code",
   "execution_count": 141,
   "metadata": {},
   "outputs": [
    {
     "data": {
      "text/plain": [
       "Index(['category', 'categoryId', 'channelId', 'channelTitle', 'classification',\n",
       "       'commentCount', 'comments', 'commonMal', 'completeDomains',\n",
       "       'description', 'domains', 'ldaClassResults', 'ldaDescriptionResults',\n",
       "       'linkContent', 'links', 'linksCount', 'linksDown', 'linksDownCount',\n",
       "       'linksUp', 'mcafeeHighRisk', 'mcafeeMediumRisk', 'mcafeeScannedLink',\n",
       "       'mcafeeUnverified', 'redirectedDomains', 'scannedLink', 'tags', 'title',\n",
       "       'totalMalLinks', 'videoId', 'viewCount'],\n",
       "      dtype='object')"
      ]
     },
     "execution_count": 141,
     "metadata": {},
     "output_type": "execute_result"
    }
   ],
   "source": [
    "df.columns"
   ]
  },
  {
   "cell_type": "code",
   "execution_count": 142,
   "metadata": {},
   "outputs": [
    {
     "data": {
      "text/plain": [
       "True"
      ]
     },
     "execution_count": 142,
     "metadata": {},
     "output_type": "execute_result"
    }
   ],
   "source": [
    "df['videoId'].is_unique"
   ]
  },
  {
   "cell_type": "code",
   "execution_count": 143,
   "metadata": {},
   "outputs": [
    {
     "data": {
      "text/plain": [
       "804"
      ]
     },
     "execution_count": 143,
     "metadata": {},
     "output_type": "execute_result"
    }
   ],
   "source": [
    "len(df['channelId'].unique())"
   ]
  },
  {
   "cell_type": "code",
   "execution_count": 144,
   "metadata": {},
   "outputs": [
    {
     "data": {
      "text/plain": [
       "category                  object\n",
       "categoryId                object\n",
       "channelId                 object\n",
       "channelTitle              object\n",
       "classification            object\n",
       "commentCount              object\n",
       "comments                  object\n",
       "commonMal                float64\n",
       "completeDomains           object\n",
       "description               object\n",
       "domains                   object\n",
       "ldaClassResults           object\n",
       "ldaDescriptionResults     object\n",
       "linkContent               object\n",
       "links                     object\n",
       "linksCount                object\n",
       "linksDown                 object\n",
       "linksDownCount            object\n",
       "linksUp                   object\n",
       "mcafeeHighRisk            object\n",
       "mcafeeMediumRisk          object\n",
       "mcafeeScannedLink         object\n",
       "mcafeeUnverified          object\n",
       "redirectedDomains         object\n",
       "scannedLink               object\n",
       "tags                      object\n",
       "title                     object\n",
       "totalMalLinks             object\n",
       "videoId                   object\n",
       "viewCount                 object\n",
       "dtype: object"
      ]
     },
     "execution_count": 144,
     "metadata": {},
     "output_type": "execute_result"
    }
   ],
   "source": [
    "df.dtypes"
   ]
  },
  {
   "cell_type": "code",
   "execution_count": 145,
   "metadata": {},
   "outputs": [
    {
     "name": "stderr",
     "output_type": "stream",
     "text": [
      "C:\\Users\\ruote\\Anaconda3\\lib\\site-packages\\ipykernel_launcher.py:2: SettingWithCopyWarning: \n",
      "A value is trying to be set on a copy of a slice from a DataFrame\n",
      "\n",
      "See the caveats in the documentation: http://pandas.pydata.org/pandas-docs/stable/indexing.html#indexing-view-versus-copy\n",
      "  \n",
      "C:\\Users\\ruote\\Anaconda3\\lib\\site-packages\\ipykernel_launcher.py:5: SettingWithCopyWarning: \n",
      "A value is trying to be set on a copy of a slice from a DataFrame\n",
      "\n",
      "See the caveats in the documentation: http://pandas.pydata.org/pandas-docs/stable/indexing.html#indexing-view-versus-copy\n",
      "  \"\"\"\n"
     ]
    }
   ],
   "source": [
    "df['classification'] = df['classification'].astype('category')\n",
    "df['commentCount'][df['commentCount'] == 'No commentCount'] = np.NaN\n",
    "df['commentCount'] = df['commentCount'].astype('float')\n",
    "df['category'] = df['category'].astype('category')\n",
    "df['viewCount'][df['viewCount'] == 'No viewCount'] = np.NaN\n",
    "df['viewCount'] = df['viewCount'].astype('float')\n",
    "df['linksCount'] = df['linksCount'].astype('float')"
   ]
  },
  {
   "cell_type": "code",
   "execution_count": 146,
   "metadata": {},
   "outputs": [],
   "source": [
    "df = df[['category', 'channelId', 'channelTitle', 'classification',\n",
    "       'commentCount', 'comments', 'commonMal', 'completeDomains',\n",
    "       'description', 'domains', \n",
    "       'linkContent', 'links', 'linksCount', 'linksDown', 'linksDownCount',\n",
    "       'linksUp', 'redirectedDomains', 'tags', 'title',\n",
    "       'videoId', 'viewCount']]"
   ]
  },
  {
   "cell_type": "code",
   "execution_count": 147,
   "metadata": {},
   "outputs": [],
   "source": [
    "df.to_pickle('../Data Files/merged.pkl')"
   ]
  },
  {
   "cell_type": "code",
   "execution_count": null,
   "metadata": {},
   "outputs": [],
   "source": []
  },
  {
   "cell_type": "code",
   "execution_count": null,
   "metadata": {},
   "outputs": [],
   "source": []
  }
 ],
 "metadata": {
  "kernelspec": {
   "display_name": "Python 3",
   "language": "python",
   "name": "python3"
  },
  "language_info": {
   "codemirror_mode": {
    "name": "ipython",
    "version": 3
   },
   "file_extension": ".py",
   "mimetype": "text/x-python",
   "name": "python",
   "nbconvert_exporter": "python",
   "pygments_lexer": "ipython3",
   "version": "3.7.1"
  }
 },
 "nbformat": 4,
 "nbformat_minor": 2
}
