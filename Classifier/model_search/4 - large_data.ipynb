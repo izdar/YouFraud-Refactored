{
 "cells": [
  {
   "cell_type": "code",
   "execution_count": 81,
   "metadata": {},
   "outputs": [],
   "source": [
    "import numpy as np\n",
    "import pandas as pd\n",
    "import matplotlib.pyplot as plt\n",
    "%matplotlib inline\n",
    "import seaborn as sns\n",
    "sns.set()\n",
    "\n",
    "from nltk.tokenize import RegexpTokenizer\n",
    "from nltk.stem import PorterStemmer\n",
    "from stop_words import get_stop_words\n",
    "from sklearn.model_selection import train_test_split, learning_curve, GridSearchCV, KFold\n",
    "from sklearn.feature_extraction.text import CountVectorizer\n",
    "from sklearn.ensemble import RandomForestClassifier\n",
    "from sklearn.tree import export_graphviz\n",
    "from sklearn.metrics import classification_report, confusion_matrix, roc_curve, roc_auc_score\n",
    "from yellowbrick.features.importances import FeatureImportances\n",
    "import plotly_express as px\n",
    "import pickle\n",
    "import os"
   ]
  },
  {
   "cell_type": "markdown",
   "metadata": {},
   "source": [
    "### labelled large dataset (only subset)"
   ]
  },
  {
   "cell_type": "code",
   "execution_count": 59,
   "metadata": {},
   "outputs": [
    {
     "name": "stdout",
     "output_type": "stream",
     "text": [
      "(68, 2)\n"
     ]
    },
    {
     "data": {
      "text/html": [
       "<div>\n",
       "<style scoped>\n",
       "    .dataframe tbody tr th:only-of-type {\n",
       "        vertical-align: middle;\n",
       "    }\n",
       "\n",
       "    .dataframe tbody tr th {\n",
       "        vertical-align: top;\n",
       "    }\n",
       "\n",
       "    .dataframe thead th {\n",
       "        text-align: right;\n",
       "    }\n",
       "</style>\n",
       "<table border=\"1\" class=\"dataframe\">\n",
       "  <thead>\n",
       "    <tr style=\"text-align: right;\">\n",
       "      <th></th>\n",
       "      <th>VideoId</th>\n",
       "      <th>Manual Label</th>\n",
       "    </tr>\n",
       "  </thead>\n",
       "  <tbody>\n",
       "    <tr>\n",
       "      <th>0</th>\n",
       "      <td>cVhcbgxv3yE</td>\n",
       "      <td>f</td>\n",
       "    </tr>\n",
       "    <tr>\n",
       "      <th>1</th>\n",
       "      <td>iMtXqTmfta0</td>\n",
       "      <td>b</td>\n",
       "    </tr>\n",
       "    <tr>\n",
       "      <th>3</th>\n",
       "      <td>bSWEbaoxa7c</td>\n",
       "      <td>b</td>\n",
       "    </tr>\n",
       "    <tr>\n",
       "      <th>4</th>\n",
       "      <td>fch2yJ11pNg</td>\n",
       "      <td>b</td>\n",
       "    </tr>\n",
       "    <tr>\n",
       "      <th>5</th>\n",
       "      <td>WjD7jLmS3ro</td>\n",
       "      <td>b</td>\n",
       "    </tr>\n",
       "  </tbody>\n",
       "</table>\n",
       "</div>"
      ],
      "text/plain": [
       "       VideoId Manual Label\n",
       "0  cVhcbgxv3yE            f\n",
       "1  iMtXqTmfta0            b\n",
       "3  bSWEbaoxa7c            b\n",
       "4  fch2yJ11pNg            b\n",
       "5  WjD7jLmS3ro            b"
      ]
     },
     "execution_count": 59,
     "metadata": {},
     "output_type": "execute_result"
    }
   ],
   "source": [
    "df_l = pd.read_csv('../Data Files/scaledValidation - Sheet1.csv')\n",
    "df_l.drop('Unnamed: 4', axis=1, inplace=True)\n",
    "df_l = df_l[['VideoId', 'Manual Label']]\n",
    "df_l['VideoId'] = df_l['VideoId'].str[32:]\n",
    "df_l = df_l[df_l['Manual Label'].isin(['b','f'])]\n",
    "print(df_l.shape)\n",
    "df_l.head()"
   ]
  },
  {
   "cell_type": "markdown",
   "metadata": {},
   "source": [
    "### merge and clean large (unlabelled) data"
   ]
  },
  {
   "cell_type": "code",
   "execution_count": 60,
   "metadata": {},
   "outputs": [
    {
     "name": "stdout",
     "output_type": "stream",
     "text": [
      "(38459, 14)\n"
     ]
    },
    {
     "data": {
      "text/html": [
       "<div>\n",
       "<style scoped>\n",
       "    .dataframe tbody tr th:only-of-type {\n",
       "        vertical-align: middle;\n",
       "    }\n",
       "\n",
       "    .dataframe tbody tr th {\n",
       "        vertical-align: top;\n",
       "    }\n",
       "\n",
       "    .dataframe thead th {\n",
       "        text-align: right;\n",
       "    }\n",
       "</style>\n",
       "<table border=\"1\" class=\"dataframe\">\n",
       "  <thead>\n",
       "    <tr style=\"text-align: right;\">\n",
       "      <th></th>\n",
       "      <th>viewCount</th>\n",
       "      <th>description</th>\n",
       "      <th>tags</th>\n",
       "      <th>predClass</th>\n",
       "      <th>channelId</th>\n",
       "      <th>videoId</th>\n",
       "      <th>comments</th>\n",
       "      <th>categoryId</th>\n",
       "      <th>commentCount</th>\n",
       "      <th>channelTitle</th>\n",
       "      <th>redirectedDomains</th>\n",
       "      <th>domains</th>\n",
       "      <th>title</th>\n",
       "      <th>completeDomains</th>\n",
       "    </tr>\n",
       "  </thead>\n",
       "  <tbody>\n",
       "    <tr>\n",
       "      <th>0</th>\n",
       "      <td>298744</td>\n",
       "      <td>After months of searching for a constant onlin...</td>\n",
       "      <td>[Money (TV Episode), How-to (Media Genre), Bus...</td>\n",
       "      <td>f</td>\n",
       "      <td>UCFqanUMpCMh54RmqRFh8hZw</td>\n",
       "      <td>dFotOUq0Z4E</td>\n",
       "      <td>[over $34,000 was added to my paypal and that ...</td>\n",
       "      <td>22</td>\n",
       "      <td>240</td>\n",
       "      <td>ProfitClicksDelux</td>\n",
       "      <td>[http://www.neobux.com/?r=dirven, https://imgu...</td>\n",
       "      <td>[neobux, imgur]</td>\n",
       "      <td>How to make money online just by clicking ads ...</td>\n",
       "      <td>[http://www.neobux.com/?r=dirven, http://imgur...</td>\n",
       "    </tr>\n",
       "    <tr>\n",
       "      <th>1</th>\n",
       "      <td>44244</td>\n",
       "      <td>hii.\\nfriends.\\n[[[[[[[[[[[[[[[[[[[[[[[[[[[[th...</td>\n",
       "      <td>[earn money, how to, ads, paer, click, $5, per...</td>\n",
       "      <td>f</td>\n",
       "      <td>UC775w8nPdhDCVJ4IkCczVPw</td>\n",
       "      <td>xO5B6JcR5TQ</td>\n",
       "      <td>[Earn Money\\r\\nhttps://youtu.be/NsqaXAMhl3k, n...</td>\n",
       "      <td>22</td>\n",
       "      <td>56</td>\n",
       "      <td>Trick Technology</td>\n",
       "      <td>[]</td>\n",
       "      <td>[]</td>\n",
       "      <td>earn money $2.to$5. ads click per day. in hindi.</td>\n",
       "      <td>[]</td>\n",
       "    </tr>\n",
       "    <tr>\n",
       "      <th>2</th>\n",
       "      <td>1066128</td>\n",
       "      <td>Create Free Bitcoin Wallet:- zebpay:- http://l...</td>\n",
       "      <td>[work from home]</td>\n",
       "      <td>f</td>\n",
       "      <td>UCdWrX9xcYhCW4RwwYT22bpg</td>\n",
       "      <td>adh4xyzygBw</td>\n",
       "      <td>[Sir ye site nhi chal rhi bhad ho gyi h kya, M...</td>\n",
       "      <td>26</td>\n",
       "      <td>2105</td>\n",
       "      <td>helpfromankit</td>\n",
       "      <td>[http://link.zebpay.com/ref/REFANKI3843, http:...</td>\n",
       "      <td>[link.zebpay, myadvertisingpays]</td>\n",
       "      <td>view Only 10 Ads Per Day and Earn Money Every ...</td>\n",
       "      <td>[http://link.zebpay.com/ref/REFANKI3843, http:...</td>\n",
       "    </tr>\n",
       "    <tr>\n",
       "      <th>3</th>\n",
       "      <td>7567</td>\n",
       "      <td>My #1 Recommendation To Earning Income Online ...</td>\n",
       "      <td>[make money online, tyler pratt, tylerpratt, e...</td>\n",
       "      <td>f</td>\n",
       "      <td>UCRfWuSls0R7jQazuddXiPvQ</td>\n",
       "      <td>H1KmFXp2Ymg</td>\n",
       "      <td>[Didn't work, The  real  big  money??   LOL cl...</td>\n",
       "      <td>26</td>\n",
       "      <td>9</td>\n",
       "      <td>Tyler Pratt</td>\n",
       "      <td>[https://go.tylerpratt.com/, https://go.tylerp...</td>\n",
       "      <td>[go.tylerpratt, go.tylerpratt, facebook, insta...</td>\n",
       "      <td>Easy Side Online Job Clicking Ads and Making M...</td>\n",
       "      <td>[http://go.tylerpratt.com/, http://go.tylerpra...</td>\n",
       "    </tr>\n",
       "    <tr>\n",
       "      <th>4</th>\n",
       "      <td>9107</td>\n",
       "      <td>Please watch: \"how to earn money from internet...</td>\n",
       "      <td>[Earn money By Click Ads, make money online, m...</td>\n",
       "      <td>f</td>\n",
       "      <td>UCupgYB_GTCWX6BLh-Ui_VFg</td>\n",
       "      <td>-YtKEcbVsKE</td>\n",
       "      <td>[madarchod Frank hi, If you have website and e...</td>\n",
       "      <td>28</td>\n",
       "      <td>19</td>\n",
       "      <td>Tech 4 Digital</td>\n",
       "      <td>[https://www.youtube.com/watch?v=DBZOdbHELXU, ...</td>\n",
       "      <td>[youtube, youtube, youtube, youtube, youtube, ...</td>\n",
       "      <td>Make money by Click ads क्लिक करके पैसे कमाओ  ...</td>\n",
       "      <td>[https://www.youtube.com/watch?v=DBZOdbHELXU, ...</td>\n",
       "    </tr>\n",
       "  </tbody>\n",
       "</table>\n",
       "</div>"
      ],
      "text/plain": [
       "  viewCount                                        description  \\\n",
       "0    298744  After months of searching for a constant onlin...   \n",
       "1     44244  hii.\\nfriends.\\n[[[[[[[[[[[[[[[[[[[[[[[[[[[[th...   \n",
       "2   1066128  Create Free Bitcoin Wallet:- zebpay:- http://l...   \n",
       "3      7567  My #1 Recommendation To Earning Income Online ...   \n",
       "4      9107  Please watch: \"how to earn money from internet...   \n",
       "\n",
       "                                                tags predClass  \\\n",
       "0  [Money (TV Episode), How-to (Media Genre), Bus...         f   \n",
       "1  [earn money, how to, ads, paer, click, $5, per...         f   \n",
       "2                                   [work from home]         f   \n",
       "3  [make money online, tyler pratt, tylerpratt, e...         f   \n",
       "4  [Earn money By Click Ads, make money online, m...         f   \n",
       "\n",
       "                  channelId      videoId  \\\n",
       "0  UCFqanUMpCMh54RmqRFh8hZw  dFotOUq0Z4E   \n",
       "1  UC775w8nPdhDCVJ4IkCczVPw  xO5B6JcR5TQ   \n",
       "2  UCdWrX9xcYhCW4RwwYT22bpg  adh4xyzygBw   \n",
       "3  UCRfWuSls0R7jQazuddXiPvQ  H1KmFXp2Ymg   \n",
       "4  UCupgYB_GTCWX6BLh-Ui_VFg  -YtKEcbVsKE   \n",
       "\n",
       "                                            comments categoryId commentCount  \\\n",
       "0  [over $34,000 was added to my paypal and that ...         22          240   \n",
       "1  [Earn Money\\r\\nhttps://youtu.be/NsqaXAMhl3k, n...         22           56   \n",
       "2  [Sir ye site nhi chal rhi bhad ho gyi h kya, M...         26         2105   \n",
       "3  [Didn't work, The  real  big  money??   LOL cl...         26            9   \n",
       "4  [madarchod Frank hi, If you have website and e...         28           19   \n",
       "\n",
       "        channelTitle                                  redirectedDomains  \\\n",
       "0  ProfitClicksDelux  [http://www.neobux.com/?r=dirven, https://imgu...   \n",
       "1   Trick Technology                                                 []   \n",
       "2      helpfromankit  [http://link.zebpay.com/ref/REFANKI3843, http:...   \n",
       "3        Tyler Pratt  [https://go.tylerpratt.com/, https://go.tylerp...   \n",
       "4     Tech 4 Digital  [https://www.youtube.com/watch?v=DBZOdbHELXU, ...   \n",
       "\n",
       "                                             domains  \\\n",
       "0                                    [neobux, imgur]   \n",
       "1                                                 []   \n",
       "2                   [link.zebpay, myadvertisingpays]   \n",
       "3  [go.tylerpratt, go.tylerpratt, facebook, insta...   \n",
       "4  [youtube, youtube, youtube, youtube, youtube, ...   \n",
       "\n",
       "                                               title  \\\n",
       "0  How to make money online just by clicking ads ...   \n",
       "1   earn money $2.to$5. ads click per day. in hindi.   \n",
       "2  view Only 10 Ads Per Day and Earn Money Every ...   \n",
       "3  Easy Side Online Job Clicking Ads and Making M...   \n",
       "4  Make money by Click ads क्लिक करके पैसे कमाओ  ...   \n",
       "\n",
       "                                     completeDomains  \n",
       "0  [http://www.neobux.com/?r=dirven, http://imgur...  \n",
       "1                                                 []  \n",
       "2  [http://link.zebpay.com/ref/REFANKI3843, http:...  \n",
       "3  [http://go.tylerpratt.com/, http://go.tylerpra...  \n",
       "4  [https://www.youtube.com/watch?v=DBZOdbHELXU, ...  "
      ]
     },
     "execution_count": 60,
     "metadata": {},
     "output_type": "execute_result"
    }
   ],
   "source": [
    "df = pd.read_json('../../../data/uniqueScaledDataset.json')\n",
    "print(df.shape)\n",
    "df.head()"
   ]
  },
  {
   "cell_type": "code",
   "execution_count": 61,
   "metadata": {},
   "outputs": [
    {
     "name": "stdout",
     "output_type": "stream",
     "text": [
      "(68, 16)\n"
     ]
    },
    {
     "data": {
      "text/html": [
       "<div>\n",
       "<style scoped>\n",
       "    .dataframe tbody tr th:only-of-type {\n",
       "        vertical-align: middle;\n",
       "    }\n",
       "\n",
       "    .dataframe tbody tr th {\n",
       "        vertical-align: top;\n",
       "    }\n",
       "\n",
       "    .dataframe thead th {\n",
       "        text-align: right;\n",
       "    }\n",
       "</style>\n",
       "<table border=\"1\" class=\"dataframe\">\n",
       "  <thead>\n",
       "    <tr style=\"text-align: right;\">\n",
       "      <th></th>\n",
       "      <th>viewCount</th>\n",
       "      <th>description</th>\n",
       "      <th>tags</th>\n",
       "      <th>predClass</th>\n",
       "      <th>channelId</th>\n",
       "      <th>videoId</th>\n",
       "      <th>comments</th>\n",
       "      <th>categoryId</th>\n",
       "      <th>commentCount</th>\n",
       "      <th>channelTitle</th>\n",
       "      <th>redirectedDomains</th>\n",
       "      <th>domains</th>\n",
       "      <th>title</th>\n",
       "      <th>completeDomains</th>\n",
       "      <th>VideoId</th>\n",
       "      <th>Manual Label</th>\n",
       "    </tr>\n",
       "  </thead>\n",
       "  <tbody>\n",
       "    <tr>\n",
       "      <th>0</th>\n",
       "      <td>50638</td>\n",
       "      <td>Earn $500 per sign up in the Los Angeles Area....</td>\n",
       "      <td>[uber, lyft, rideshare, sign up, bonus, how to...</td>\n",
       "      <td>f</td>\n",
       "      <td>UCPmFGlgNyvdSwDIKVfv5qwg</td>\n",
       "      <td>z8-N86KHCEs</td>\n",
       "      <td>[Doesnt the link in the description make you m...</td>\n",
       "      <td>22</td>\n",
       "      <td>3</td>\n",
       "      <td>RideshareInvestor</td>\n",
       "      <td>[https://www.uber.com/a/join?exp_hvp=1&amp;invite_...</td>\n",
       "      <td>[uber]</td>\n",
       "      <td>Make money online with ppc ads. Sign up for Ub...</td>\n",
       "      <td>[https://partners.uber.com/i/8m87zcbpue]</td>\n",
       "      <td>z8-N86KHCEs</td>\n",
       "      <td>f</td>\n",
       "    </tr>\n",
       "    <tr>\n",
       "      <th>1</th>\n",
       "      <td>38336</td>\n",
       "      <td>http://joinankur.com : join my team here to ge...</td>\n",
       "      <td>[mass email magician, email list magician, col...</td>\n",
       "      <td>b</td>\n",
       "      <td>UCTiribC11Co_ft-r9wrunew</td>\n",
       "      <td>6tKK00krGoI</td>\n",
       "      <td>[How does it work, Guys I swear I just got fre...</td>\n",
       "      <td>24</td>\n",
       "      <td>59</td>\n",
       "      <td>Ankur Agarwal</td>\n",
       "      <td>[http://joinankur.com/]</td>\n",
       "      <td>[joinankur]</td>\n",
       "      <td>Collect Emails , Send Emails And Make Money On...</td>\n",
       "      <td>[http://joinankur.com]</td>\n",
       "      <td>6tKK00krGoI</td>\n",
       "      <td>b</td>\n",
       "    </tr>\n",
       "    <tr>\n",
       "      <th>2</th>\n",
       "      <td>180</td>\n",
       "      <td>In it we learn how to implement Banner Ads in ...</td>\n",
       "      <td>[how to add google adsense to android app, how...</td>\n",
       "      <td>f</td>\n",
       "      <td>UCV7hdDVonvC2ZOWNcHmM6eg</td>\n",
       "      <td>2ij6cSpEw2o</td>\n",
       "      <td>[Mobile number dena na muchhe kuchh puchh na hai]</td>\n",
       "      <td>22</td>\n",
       "      <td>3</td>\n",
       "      <td>Easy Tut 4 U</td>\n",
       "      <td>[]</td>\n",
       "      <td>[]</td>\n",
       "      <td>Admob Banner ADS Tutorial Hindi by Easy Tut 4 U</td>\n",
       "      <td>[]</td>\n",
       "      <td>2ij6cSpEw2o</td>\n",
       "      <td>f</td>\n",
       "    </tr>\n",
       "    <tr>\n",
       "      <th>3</th>\n",
       "      <td>14099</td>\n",
       "      <td></td>\n",
       "      <td>[Clicker Heroes, money glitch, clicker heroes ...</td>\n",
       "      <td>b</td>\n",
       "      <td>UC5QiV14A4UVAu8zwcO6L0VA</td>\n",
       "      <td>sSdiQ95l1rQ</td>\n",
       "      <td>[I got 34,735#.    Level 434, I when from 10k ...</td>\n",
       "      <td>20</td>\n",
       "      <td>9</td>\n",
       "      <td>NaCl Daddy</td>\n",
       "      <td>[]</td>\n",
       "      <td>[]</td>\n",
       "      <td>Clicker Heroes  Easy MONEY GLITCH</td>\n",
       "      <td>[]</td>\n",
       "      <td>sSdiQ95l1rQ</td>\n",
       "      <td>b</td>\n",
       "    </tr>\n",
       "    <tr>\n",
       "      <th>4</th>\n",
       "      <td>481</td>\n",
       "      <td>5 Easiest Ways To Make Money Online Internet I...</td>\n",
       "      <td>[ways to make money online, india, hindi, onli...</td>\n",
       "      <td>f</td>\n",
       "      <td>UCniia-3AGf-HzVXooVcp1lw</td>\n",
       "      <td>AZyltjsXWBc</td>\n",
       "      <td>[]</td>\n",
       "      <td>1</td>\n",
       "      <td>0</td>\n",
       "      <td>study tips</td>\n",
       "      <td>[https://www.youtube.com/watch?v=1yYpRSYkwIc&amp;f...</td>\n",
       "      <td>[youtube, youtube, youtube, youtube, youtube, ...</td>\n",
       "      <td>Top 5 Best Easy Ways To Earn Money Online Indi...</td>\n",
       "      <td>[https://youtu.be/1yYpRSYkwIc, https://youtu.b...</td>\n",
       "      <td>AZyltjsXWBc</td>\n",
       "      <td>b</td>\n",
       "    </tr>\n",
       "  </tbody>\n",
       "</table>\n",
       "</div>"
      ],
      "text/plain": [
       "  viewCount                                        description  \\\n",
       "0     50638  Earn $500 per sign up in the Los Angeles Area....   \n",
       "1     38336  http://joinankur.com : join my team here to ge...   \n",
       "2       180  In it we learn how to implement Banner Ads in ...   \n",
       "3     14099                                                      \n",
       "4       481  5 Easiest Ways To Make Money Online Internet I...   \n",
       "\n",
       "                                                tags predClass  \\\n",
       "0  [uber, lyft, rideshare, sign up, bonus, how to...         f   \n",
       "1  [mass email magician, email list magician, col...         b   \n",
       "2  [how to add google adsense to android app, how...         f   \n",
       "3  [Clicker Heroes, money glitch, clicker heroes ...         b   \n",
       "4  [ways to make money online, india, hindi, onli...         f   \n",
       "\n",
       "                  channelId      videoId  \\\n",
       "0  UCPmFGlgNyvdSwDIKVfv5qwg  z8-N86KHCEs   \n",
       "1  UCTiribC11Co_ft-r9wrunew  6tKK00krGoI   \n",
       "2  UCV7hdDVonvC2ZOWNcHmM6eg  2ij6cSpEw2o   \n",
       "3  UC5QiV14A4UVAu8zwcO6L0VA  sSdiQ95l1rQ   \n",
       "4  UCniia-3AGf-HzVXooVcp1lw  AZyltjsXWBc   \n",
       "\n",
       "                                            comments categoryId commentCount  \\\n",
       "0  [Doesnt the link in the description make you m...         22            3   \n",
       "1  [How does it work, Guys I swear I just got fre...         24           59   \n",
       "2  [Mobile number dena na muchhe kuchh puchh na hai]         22            3   \n",
       "3  [I got 34,735#.    Level 434, I when from 10k ...         20            9   \n",
       "4                                                 []          1            0   \n",
       "\n",
       "        channelTitle                                  redirectedDomains  \\\n",
       "0  RideshareInvestor  [https://www.uber.com/a/join?exp_hvp=1&invite_...   \n",
       "1      Ankur Agarwal                            [http://joinankur.com/]   \n",
       "2       Easy Tut 4 U                                                 []   \n",
       "3         NaCl Daddy                                                 []   \n",
       "4         study tips  [https://www.youtube.com/watch?v=1yYpRSYkwIc&f...   \n",
       "\n",
       "                                             domains  \\\n",
       "0                                             [uber]   \n",
       "1                                        [joinankur]   \n",
       "2                                                 []   \n",
       "3                                                 []   \n",
       "4  [youtube, youtube, youtube, youtube, youtube, ...   \n",
       "\n",
       "                                               title  \\\n",
       "0  Make money online with ppc ads. Sign up for Ub...   \n",
       "1  Collect Emails , Send Emails And Make Money On...   \n",
       "2    Admob Banner ADS Tutorial Hindi by Easy Tut 4 U   \n",
       "3                  Clicker Heroes  Easy MONEY GLITCH   \n",
       "4  Top 5 Best Easy Ways To Earn Money Online Indi...   \n",
       "\n",
       "                                     completeDomains      VideoId Manual Label  \n",
       "0           [https://partners.uber.com/i/8m87zcbpue]  z8-N86KHCEs            f  \n",
       "1                             [http://joinankur.com]  6tKK00krGoI            b  \n",
       "2                                                 []  2ij6cSpEw2o            f  \n",
       "3                                                 []  sSdiQ95l1rQ            b  \n",
       "4  [https://youtu.be/1yYpRSYkwIc, https://youtu.b...  AZyltjsXWBc            b  "
      ]
     },
     "execution_count": 61,
     "metadata": {},
     "output_type": "execute_result"
    }
   ],
   "source": [
    "df_l = pd.merge(df, df_l, how='inner', left_on='videoId', right_on='VideoId')\n",
    "print(df_l.shape)\n",
    "df_l.head()"
   ]
  },
  {
   "cell_type": "code",
   "execution_count": 62,
   "metadata": {},
   "outputs": [
    {
     "data": {
      "text/plain": [
       "True"
      ]
     },
     "execution_count": 62,
     "metadata": {},
     "output_type": "execute_result"
    }
   ],
   "source": [
    "df_l['videoId'].is_unique"
   ]
  },
  {
   "cell_type": "code",
   "execution_count": 63,
   "metadata": {},
   "outputs": [
    {
     "data": {
      "text/plain": [
       "68"
      ]
     },
     "execution_count": 63,
     "metadata": {},
     "output_type": "execute_result"
    }
   ],
   "source": [
    "len(df_l['channelId'].unique())"
   ]
  },
  {
   "cell_type": "code",
   "execution_count": 64,
   "metadata": {},
   "outputs": [
    {
     "data": {
      "text/plain": [
       "viewCount            object\n",
       "description          object\n",
       "tags                 object\n",
       "predClass            object\n",
       "channelId            object\n",
       "videoId              object\n",
       "comments             object\n",
       "categoryId           object\n",
       "commentCount         object\n",
       "channelTitle         object\n",
       "redirectedDomains    object\n",
       "domains              object\n",
       "title                object\n",
       "completeDomains      object\n",
       "VideoId              object\n",
       "Manual Label         object\n",
       "dtype: object"
      ]
     },
     "execution_count": 64,
     "metadata": {},
     "output_type": "execute_result"
    }
   ],
   "source": [
    "df_l.dtypes"
   ]
  },
  {
   "cell_type": "code",
   "execution_count": 65,
   "metadata": {},
   "outputs": [
    {
     "name": "stderr",
     "output_type": "stream",
     "text": [
      "C:\\Users\\ruote\\Anaconda3\\lib\\site-packages\\ipykernel_launcher.py:5: SettingWithCopyWarning: \n",
      "A value is trying to be set on a copy of a slice from a DataFrame\n",
      "\n",
      "See the caveats in the documentation: http://pandas.pydata.org/pandas-docs/stable/indexing.html#indexing-view-versus-copy\n",
      "  \"\"\"\n"
     ]
    }
   ],
   "source": [
    "# df_l['classification'] = df_l['classification'].astype('category')\n",
    "df_l['commentCount'][df_l['commentCount'] == 'No commentCount'] = np.NaN\n",
    "df_l['commentCount'] = df_l['commentCount'].astype('float')\n",
    "# df_l['category'] = df_l['category'].astype('category')\n",
    "df_l['viewCount'][df_l['viewCount'] == 'No viewCount'] = np.NaN\n",
    "df_l['viewCount'] = df_l['viewCount'].astype('float')\n",
    "# df_l['linksCount'] = df_l['linksCount'].astype('float')\n",
    "df_l['Manual Label'] = df_l['Manual Label'].astype('category')"
   ]
  },
  {
   "cell_type": "code",
   "execution_count": 66,
   "metadata": {},
   "outputs": [],
   "source": [
    "df_l = df_l[['categoryId', 'channelId', 'channelTitle', 'Manual Label',\n",
    "       'commentCount', 'comments', 'completeDomains',\n",
    "       'description', 'domains',\n",
    "       'redirectedDomains', 'tags', 'title',\n",
    "       'videoId', 'viewCount']]"
   ]
  },
  {
   "cell_type": "code",
   "execution_count": 116,
   "metadata": {},
   "outputs": [
    {
     "name": "stdout",
     "output_type": "stream",
     "text": [
      "(16, 1)\n"
     ]
    },
    {
     "data": {
      "text/html": [
       "<div>\n",
       "<style scoped>\n",
       "    .dataframe tbody tr th:only-of-type {\n",
       "        vertical-align: middle;\n",
       "    }\n",
       "\n",
       "    .dataframe tbody tr th {\n",
       "        vertical-align: top;\n",
       "    }\n",
       "\n",
       "    .dataframe thead th {\n",
       "        text-align: right;\n",
       "    }\n",
       "</style>\n",
       "<table border=\"1\" class=\"dataframe\">\n",
       "  <thead>\n",
       "    <tr style=\"text-align: right;\">\n",
       "      <th></th>\n",
       "      <th>category</th>\n",
       "    </tr>\n",
       "    <tr>\n",
       "      <th>categoryId</th>\n",
       "      <th></th>\n",
       "    </tr>\n",
       "  </thead>\n",
       "  <tbody>\n",
       "    <tr>\n",
       "      <th>22</th>\n",
       "      <td>People &amp; Blogs</td>\n",
       "    </tr>\n",
       "    <tr>\n",
       "      <th>2</th>\n",
       "      <td>Autos &amp; Vehicles</td>\n",
       "    </tr>\n",
       "    <tr>\n",
       "      <th>26</th>\n",
       "      <td>How-to &amp; Style</td>\n",
       "    </tr>\n",
       "    <tr>\n",
       "      <th>27</th>\n",
       "      <td>Education</td>\n",
       "    </tr>\n",
       "    <tr>\n",
       "      <th>28</th>\n",
       "      <td>Science &amp; Technology</td>\n",
       "    </tr>\n",
       "  </tbody>\n",
       "</table>\n",
       "</div>"
      ],
      "text/plain": [
       "                        category\n",
       "categoryId                      \n",
       "22                People & Blogs\n",
       "2               Autos & Vehicles\n",
       "26                How-to & Style\n",
       "27                     Education\n",
       "28          Science & Technology"
      ]
     },
     "execution_count": 116,
     "metadata": {},
     "output_type": "execute_result"
    }
   ],
   "source": [
    "df_cat = pd.read_json('../../Data Collection/Data Files/dataset.json')\n",
    "df_cat = df_cat[['category', 'categoryId']]\n",
    "df_cat.drop_duplicates(inplace=True)\n",
    "df_cat.set_index('categoryId', inplace=True)\n",
    "print(df_cat.shape)\n",
    "df_cat.head()"
   ]
  },
  {
   "cell_type": "code",
   "execution_count": 130,
   "metadata": {},
   "outputs": [],
   "source": [
    "df_l['category'] = df_l['categoryId'].apply(lambda c_id: df_cat.loc[int(c_id)][0])"
   ]
  },
  {
   "cell_type": "code",
   "execution_count": 132,
   "metadata": {},
   "outputs": [],
   "source": [
    "df_l.drop('categoryId', axis=1, inplace=True)\n",
    "df_l['category'] = df_l['category'].astype('category')"
   ]
  },
  {
   "cell_type": "code",
   "execution_count": 134,
   "metadata": {},
   "outputs": [],
   "source": [
    "df_l.to_pickle('../Data Files/labelled_large.pkl')"
   ]
  },
  {
   "cell_type": "markdown",
   "metadata": {},
   "source": [
    "### preprocessing"
   ]
  },
  {
   "cell_type": "code",
   "execution_count": 136,
   "metadata": {},
   "outputs": [],
   "source": [
    "df_l = pd.read_pickle('../Data Files/labelled_large.pkl')"
   ]
  },
  {
   "cell_type": "code",
   "execution_count": 137,
   "metadata": {},
   "outputs": [],
   "source": [
    "with open(f'results/RF_grid_5Kfold_results.pkl', 'rb') as f:\n",
    "    cv_clf = pickle.load(f)\n",
    "with open(f'results/RF_grid_5Kfold_encoder.pkl', 'rb') as f:\n",
    "    enc = pickle.load(f)"
   ]
  },
  {
   "cell_type": "code",
   "execution_count": 138,
   "metadata": {},
   "outputs": [
    {
     "name": "stderr",
     "output_type": "stream",
     "text": [
      "C:\\Users\\ruote\\Anaconda3\\lib\\site-packages\\ipykernel_launcher.py:5: SettingWithCopyWarning: \n",
      "A value is trying to be set on a copy of a slice from a DataFrame.\n",
      "Try using .loc[row_indexer,col_indexer] = value instead\n",
      "\n",
      "See the caveats in the documentation: http://pandas.pydata.org/pandas-docs/stable/indexing.html#indexing-view-versus-copy\n",
      "  \"\"\"\n",
      "C:\\Users\\ruote\\Anaconda3\\lib\\site-packages\\pandas\\core\\frame.py:3940: SettingWithCopyWarning: \n",
      "A value is trying to be set on a copy of a slice from a DataFrame\n",
      "\n",
      "See the caveats in the documentation: http://pandas.pydata.org/pandas-docs/stable/indexing.html#indexing-view-versus-copy\n",
      "  errors=errors)\n",
      "C:\\Users\\ruote\\Anaconda3\\lib\\site-packages\\ipykernel_launcher.py:12: SettingWithCopyWarning: \n",
      "A value is trying to be set on a copy of a slice from a DataFrame.\n",
      "Try using .loc[row_indexer,col_indexer] = value instead\n",
      "\n",
      "See the caveats in the documentation: http://pandas.pydata.org/pandas-docs/stable/indexing.html#indexing-view-versus-copy\n",
      "  if sys.path[0] == '':\n"
     ]
    },
    {
     "data": {
      "text/html": [
       "<div>\n",
       "<style scoped>\n",
       "    .dataframe tbody tr th:only-of-type {\n",
       "        vertical-align: middle;\n",
       "    }\n",
       "\n",
       "    .dataframe tbody tr th {\n",
       "        vertical-align: top;\n",
       "    }\n",
       "\n",
       "    .dataframe thead th {\n",
       "        text-align: right;\n",
       "    }\n",
       "</style>\n",
       "<table border=\"1\" class=\"dataframe\">\n",
       "  <thead>\n",
       "    <tr style=\"text-align: right;\">\n",
       "      <th></th>\n",
       "      <th>Manual Label</th>\n",
       "      <th>feature</th>\n",
       "    </tr>\n",
       "  </thead>\n",
       "  <tbody>\n",
       "    <tr>\n",
       "      <th>0</th>\n",
       "      <td>f</td>\n",
       "      <td>Earn $500 per sign up in the Los Angeles Area....</td>\n",
       "    </tr>\n",
       "    <tr>\n",
       "      <th>1</th>\n",
       "      <td>b</td>\n",
       "      <td>http://joinankur.com : join my team here to ge...</td>\n",
       "    </tr>\n",
       "    <tr>\n",
       "      <th>2</th>\n",
       "      <td>f</td>\n",
       "      <td>In it we learn how to implement Banner Ads in ...</td>\n",
       "    </tr>\n",
       "    <tr>\n",
       "      <th>3</th>\n",
       "      <td>b</td>\n",
       "      <td>Clicker Heroes  Easy MONEY GLITCH Clicker Her...</td>\n",
       "    </tr>\n",
       "    <tr>\n",
       "      <th>4</th>\n",
       "      <td>b</td>\n",
       "      <td>5 Easiest Ways To Make Money Online Internet I...</td>\n",
       "    </tr>\n",
       "  </tbody>\n",
       "</table>\n",
       "</div>"
      ],
      "text/plain": [
       "  Manual Label                                            feature\n",
       "0            f  Earn $500 per sign up in the Los Angeles Area....\n",
       "1            b  http://joinankur.com : join my team here to ge...\n",
       "2            f  In it we learn how to implement Banner Ads in ...\n",
       "3            b   Clicker Heroes  Easy MONEY GLITCH Clicker Her...\n",
       "4            b  5 Easiest Ways To Make Money Online Internet I..."
      ]
     },
     "execution_count": 138,
     "metadata": {},
     "output_type": "execute_result"
    }
   ],
   "source": [
    "data = df_l[['Manual Label','description','title','tags']]\n",
    "\n",
    "data['feature'] = (data['description'] + ' ' \n",
    "                   + data['title'] + ' ' \n",
    "                   + data['tags'].apply(lambda l: ' '.join(l)))\n",
    "data.drop(['description','title','tags'], \n",
    "          axis=1, inplace=True)\n",
    "\n",
    "data['feature'] = (data['feature']\n",
    "                   .str.encode('ascii', 'ignore')\n",
    "                   .str.decode('utf-8')\n",
    "                   .astype(str))\n",
    "data.head()"
   ]
  },
  {
   "cell_type": "code",
   "execution_count": 139,
   "metadata": {},
   "outputs": [],
   "source": [
    "tokenizer = RegexpTokenizer(r'\\w+')\n",
    "p_stemmer = PorterStemmer()\n",
    "en_stop = get_stop_words('en')"
   ]
  },
  {
   "cell_type": "code",
   "execution_count": 140,
   "metadata": {},
   "outputs": [
    {
     "name": "stderr",
     "output_type": "stream",
     "text": [
      "C:\\Users\\ruote\\Anaconda3\\lib\\site-packages\\ipykernel_launcher.py:8: SettingWithCopyWarning: \n",
      "A value is trying to be set on a copy of a slice from a DataFrame.\n",
      "Try using .loc[row_indexer,col_indexer] = value instead\n",
      "\n",
      "See the caveats in the documentation: http://pandas.pydata.org/pandas-docs/stable/indexing.html#indexing-view-versus-copy\n",
      "  \n"
     ]
    }
   ],
   "source": [
    "data['feature'] = (data['feature'].str\n",
    "                   .lower()\n",
    "                   .replace(r'\\d+', '', regex=True)\n",
    "                   .apply(lambda s: tokenizer.tokenize(s))\n",
    "                   .apply(lambda toks: [j for j in toks if not j in en_stop])\n",
    "                   .apply(lambda toks: [p_stemmer.stem(j) for j in toks])\n",
    "                   .apply(lambda toks: ' '.join(toks))\n",
    "                   .replace(r'www|http|https|com', '', regex=True)\n",
    "                  )"
   ]
  },
  {
   "cell_type": "code",
   "execution_count": 141,
   "metadata": {},
   "outputs": [],
   "source": [
    "data_x = enc.transform(data['feature'])"
   ]
  },
  {
   "cell_type": "markdown",
   "metadata": {},
   "source": [
    "### predictions"
   ]
  },
  {
   "cell_type": "code",
   "execution_count": 142,
   "metadata": {},
   "outputs": [],
   "source": [
    "best_clf = cv_clf.best_estimator_"
   ]
  },
  {
   "cell_type": "code",
   "execution_count": 143,
   "metadata": {},
   "outputs": [
    {
     "data": {
      "text/plain": [
       "0.7941176470588235"
      ]
     },
     "execution_count": 143,
     "metadata": {},
     "output_type": "execute_result"
    }
   ],
   "source": [
    "best_clf.score(data_x, data['Manual Label'].cat.codes)"
   ]
  },
  {
   "cell_type": "code",
   "execution_count": 144,
   "metadata": {},
   "outputs": [],
   "source": [
    "preds = best_clf.predict(data_x)"
   ]
  },
  {
   "cell_type": "code",
   "execution_count": 145,
   "metadata": {},
   "outputs": [
    {
     "name": "stdout",
     "output_type": "stream",
     "text": [
      "              precision    recall  f1-score   support\n",
      "\n",
      "           b       0.92      0.76      0.83        45\n",
      "           f       0.65      0.87      0.74        23\n",
      "\n",
      "   micro avg       0.79      0.79      0.79        68\n",
      "   macro avg       0.78      0.81      0.79        68\n",
      "weighted avg       0.83      0.79      0.80        68\n",
      "\n"
     ]
    }
   ],
   "source": [
    "print(classification_report(data['Manual Label'].cat.codes, preds,\n",
    "                            target_names=data['Manual Label'].cat.categories))"
   ]
  },
  {
   "cell_type": "code",
   "execution_count": 146,
   "metadata": {},
   "outputs": [
    {
     "data": {
      "image/png": "[encoded data removed]",
      "text/plain": [
       "<Figure size 432x288 with 2 Axes>"
      ]
     },
     "metadata": {},
     "output_type": "display_data"
    }
   ],
   "source": [
    "cmat = confusion_matrix(data['Manual Label'].cat.codes, preds)\n",
    "ax = sns.heatmap(cmat, annot=True, square=True, \n",
    "                 xticklabels=data['Manual Label'].cat.categories,\n",
    "                 yticklabels=data['Manual Label'].cat.categories);\n",
    "ax.set(title='Confusion Matrix', xlabel='Predicted', ylabel='True');"
   ]
  },
  {
   "cell_type": "code",
   "execution_count": 147,
   "metadata": {},
   "outputs": [
    {
     "data": {
      "image/png": "[encoded data removed]",
      "text/plain": [
       "<Figure size 360x360 with 1 Axes>"
      ]
     },
     "metadata": {},
     "output_type": "display_data"
    }
   ],
   "source": [
    "fpr, tpr, _ = roc_curve(data['Manual Label'].cat.codes, preds)\n",
    "auc = roc_auc_score(data['Manual Label'].cat.codes, preds)\n",
    "\n",
    "fig, ax = plt.subplots(figsize=(5,5))\n",
    "ax.plot(fpr, tpr, label=f'Classifier (AUC = {auc:.2f})')\n",
    "ax.plot([0,1], [0,1], linestyle='dashed', color='grey', label='Randon Chance')\n",
    "ax.set_title('ROC Curve')\n",
    "ax.legend();"
   ]
  },
  {
   "cell_type": "code",
   "execution_count": 148,
   "metadata": {},
   "outputs": [],
   "source": [
    "df_l['prediction'] = preds"
   ]
  },
  {
   "cell_type": "markdown",
   "metadata": {},
   "source": [
    "### analysis"
   ]
  },
  {
   "cell_type": "code",
   "execution_count": 149,
   "metadata": {},
   "outputs": [
    {
     "data": {
      "text/html": [
       "<div>\n",
       "<style scoped>\n",
       "    .dataframe tbody tr th:only-of-type {\n",
       "        vertical-align: middle;\n",
       "    }\n",
       "\n",
       "    .dataframe tbody tr th {\n",
       "        vertical-align: top;\n",
       "    }\n",
       "\n",
       "    .dataframe thead th {\n",
       "        text-align: right;\n",
       "    }\n",
       "</style>\n",
       "<table border=\"1\" class=\"dataframe\">\n",
       "  <thead>\n",
       "    <tr style=\"text-align: right;\">\n",
       "      <th></th>\n",
       "      <th>channelId</th>\n",
       "      <th>channelTitle</th>\n",
       "      <th>Manual Label</th>\n",
       "      <th>commentCount</th>\n",
       "      <th>comments</th>\n",
       "      <th>completeDomains</th>\n",
       "      <th>description</th>\n",
       "      <th>domains</th>\n",
       "      <th>redirectedDomains</th>\n",
       "      <th>tags</th>\n",
       "      <th>title</th>\n",
       "      <th>videoId</th>\n",
       "      <th>viewCount</th>\n",
       "      <th>prediction</th>\n",
       "      <th>results</th>\n",
       "      <th>category</th>\n",
       "    </tr>\n",
       "  </thead>\n",
       "  <tbody>\n",
       "    <tr>\n",
       "      <th>0</th>\n",
       "      <td>UCPmFGlgNyvdSwDIKVfv5qwg</td>\n",
       "      <td>RideshareInvestor</td>\n",
       "      <td>f</td>\n",
       "      <td>3.0</td>\n",
       "      <td>[Doesnt the link in the description make you m...</td>\n",
       "      <td>[https://partners.uber.com/i/8m87zcbpue]</td>\n",
       "      <td>Earn $500 per sign up in the Los Angeles Area....</td>\n",
       "      <td>[uber]</td>\n",
       "      <td>[https://www.uber.com/a/join?exp_hvp=1&amp;invite_...</td>\n",
       "      <td>[uber, lyft, rideshare, sign up, bonus, how to...</td>\n",
       "      <td>Make money online with ppc ads. Sign up for Ub...</td>\n",
       "      <td>z8-N86KHCEs</td>\n",
       "      <td>50638.0</td>\n",
       "      <td>1</td>\n",
       "      <td>TP</td>\n",
       "      <td>People &amp; Blogs</td>\n",
       "    </tr>\n",
       "    <tr>\n",
       "      <th>1</th>\n",
       "      <td>UCTiribC11Co_ft-r9wrunew</td>\n",
       "      <td>Ankur Agarwal</td>\n",
       "      <td>b</td>\n",
       "      <td>59.0</td>\n",
       "      <td>[How does it work, Guys I swear I just got fre...</td>\n",
       "      <td>[http://joinankur.com]</td>\n",
       "      <td>http://joinankur.com : join my team here to ge...</td>\n",
       "      <td>[joinankur]</td>\n",
       "      <td>[http://joinankur.com/]</td>\n",
       "      <td>[mass email magician, email list magician, col...</td>\n",
       "      <td>Collect Emails , Send Emails And Make Money On...</td>\n",
       "      <td>6tKK00krGoI</td>\n",
       "      <td>38336.0</td>\n",
       "      <td>1</td>\n",
       "      <td>FP</td>\n",
       "      <td>Entertainment</td>\n",
       "    </tr>\n",
       "    <tr>\n",
       "      <th>2</th>\n",
       "      <td>UCV7hdDVonvC2ZOWNcHmM6eg</td>\n",
       "      <td>Easy Tut 4 U</td>\n",
       "      <td>f</td>\n",
       "      <td>3.0</td>\n",
       "      <td>[Mobile number dena na muchhe kuchh puchh na hai]</td>\n",
       "      <td>[]</td>\n",
       "      <td>In it we learn how to implement Banner Ads in ...</td>\n",
       "      <td>[]</td>\n",
       "      <td>[]</td>\n",
       "      <td>[how to add google adsense to android app, how...</td>\n",
       "      <td>Admob Banner ADS Tutorial Hindi by Easy Tut 4 U</td>\n",
       "      <td>2ij6cSpEw2o</td>\n",
       "      <td>180.0</td>\n",
       "      <td>1</td>\n",
       "      <td>TP</td>\n",
       "      <td>People &amp; Blogs</td>\n",
       "    </tr>\n",
       "    <tr>\n",
       "      <th>3</th>\n",
       "      <td>UC5QiV14A4UVAu8zwcO6L0VA</td>\n",
       "      <td>NaCl Daddy</td>\n",
       "      <td>b</td>\n",
       "      <td>9.0</td>\n",
       "      <td>[I got 34,735#.    Level 434, I when from 10k ...</td>\n",
       "      <td>[]</td>\n",
       "      <td></td>\n",
       "      <td>[]</td>\n",
       "      <td>[]</td>\n",
       "      <td>[Clicker Heroes, money glitch, clicker heroes ...</td>\n",
       "      <td>Clicker Heroes  Easy MONEY GLITCH</td>\n",
       "      <td>sSdiQ95l1rQ</td>\n",
       "      <td>14099.0</td>\n",
       "      <td>0</td>\n",
       "      <td>TN</td>\n",
       "      <td>Gaming</td>\n",
       "    </tr>\n",
       "    <tr>\n",
       "      <th>4</th>\n",
       "      <td>UCniia-3AGf-HzVXooVcp1lw</td>\n",
       "      <td>study tips</td>\n",
       "      <td>b</td>\n",
       "      <td>0.0</td>\n",
       "      <td>[]</td>\n",
       "      <td>[https://youtu.be/1yYpRSYkwIc, https://youtu.b...</td>\n",
       "      <td>5 Easiest Ways To Make Money Online Internet I...</td>\n",
       "      <td>[youtube, youtube, youtube, youtube, youtube, ...</td>\n",
       "      <td>[https://www.youtube.com/watch?v=1yYpRSYkwIc&amp;f...</td>\n",
       "      <td>[ways to make money online, india, hindi, onli...</td>\n",
       "      <td>Top 5 Best Easy Ways To Earn Money Online Indi...</td>\n",
       "      <td>AZyltjsXWBc</td>\n",
       "      <td>481.0</td>\n",
       "      <td>1</td>\n",
       "      <td>FP</td>\n",
       "      <td>Film &amp; Animation</td>\n",
       "    </tr>\n",
       "  </tbody>\n",
       "</table>\n",
       "</div>"
      ],
      "text/plain": [
       "                  channelId       channelTitle Manual Label  commentCount  \\\n",
       "0  UCPmFGlgNyvdSwDIKVfv5qwg  RideshareInvestor            f           3.0   \n",
       "1  UCTiribC11Co_ft-r9wrunew      Ankur Agarwal            b          59.0   \n",
       "2  UCV7hdDVonvC2ZOWNcHmM6eg       Easy Tut 4 U            f           3.0   \n",
       "3  UC5QiV14A4UVAu8zwcO6L0VA         NaCl Daddy            b           9.0   \n",
       "4  UCniia-3AGf-HzVXooVcp1lw         study tips            b           0.0   \n",
       "\n",
       "                                            comments  \\\n",
       "0  [Doesnt the link in the description make you m...   \n",
       "1  [How does it work, Guys I swear I just got fre...   \n",
       "2  [Mobile number dena na muchhe kuchh puchh na hai]   \n",
       "3  [I got 34,735#.    Level 434, I when from 10k ...   \n",
       "4                                                 []   \n",
       "\n",
       "                                     completeDomains  \\\n",
       "0           [https://partners.uber.com/i/8m87zcbpue]   \n",
       "1                             [http://joinankur.com]   \n",
       "2                                                 []   \n",
       "3                                                 []   \n",
       "4  [https://youtu.be/1yYpRSYkwIc, https://youtu.b...   \n",
       "\n",
       "                                         description  \\\n",
       "0  Earn $500 per sign up in the Los Angeles Area....   \n",
       "1  http://joinankur.com : join my team here to ge...   \n",
       "2  In it we learn how to implement Banner Ads in ...   \n",
       "3                                                      \n",
       "4  5 Easiest Ways To Make Money Online Internet I...   \n",
       "\n",
       "                                             domains  \\\n",
       "0                                             [uber]   \n",
       "1                                        [joinankur]   \n",
       "2                                                 []   \n",
       "3                                                 []   \n",
       "4  [youtube, youtube, youtube, youtube, youtube, ...   \n",
       "\n",
       "                                   redirectedDomains  \\\n",
       "0  [https://www.uber.com/a/join?exp_hvp=1&invite_...   \n",
       "1                            [http://joinankur.com/]   \n",
       "2                                                 []   \n",
       "3                                                 []   \n",
       "4  [https://www.youtube.com/watch?v=1yYpRSYkwIc&f...   \n",
       "\n",
       "                                                tags  \\\n",
       "0  [uber, lyft, rideshare, sign up, bonus, how to...   \n",
       "1  [mass email magician, email list magician, col...   \n",
       "2  [how to add google adsense to android app, how...   \n",
       "3  [Clicker Heroes, money glitch, clicker heroes ...   \n",
       "4  [ways to make money online, india, hindi, onli...   \n",
       "\n",
       "                                               title      videoId  viewCount  \\\n",
       "0  Make money online with ppc ads. Sign up for Ub...  z8-N86KHCEs    50638.0   \n",
       "1  Collect Emails , Send Emails And Make Money On...  6tKK00krGoI    38336.0   \n",
       "2    Admob Banner ADS Tutorial Hindi by Easy Tut 4 U  2ij6cSpEw2o      180.0   \n",
       "3                  Clicker Heroes  Easy MONEY GLITCH  sSdiQ95l1rQ    14099.0   \n",
       "4  Top 5 Best Easy Ways To Earn Money Online Indi...  AZyltjsXWBc      481.0   \n",
       "\n",
       "   prediction results          category  \n",
       "0           1      TP    People & Blogs  \n",
       "1           1      FP     Entertainment  \n",
       "2           1      TP    People & Blogs  \n",
       "3           0      TN            Gaming  \n",
       "4           1      FP  Film & Animation  "
      ]
     },
     "execution_count": 149,
     "metadata": {},
     "output_type": "execute_result"
    }
   ],
   "source": [
    "def transformer(row):\n",
    "    if row['Manual Label'] == 'f': # positive\n",
    "        if row['prediction'] == 1: # positive\n",
    "            return 'TP'\n",
    "        elif row['prediction'] == 0: # negative\n",
    "            return 'FN'\n",
    "    elif row['Manual Label'] == 'b': # negative\n",
    "        if row['prediction'] == 1: # positive\n",
    "            return 'FP'\n",
    "        elif row['prediction'] == 0: # negative\n",
    "            return 'TN'\n",
    "\n",
    "df_l['results'] = df_l.apply(transformer, axis=1)\n",
    "df_l.head()"
   ]
  },
  {
   "cell_type": "code",
   "execution_count": 150,
   "metadata": {},
   "outputs": [
    {
     "data": {
      "image/png": "[encoded data removed]",
      "text/plain": [
       "<Figure size 432x288 with 1 Axes>"
      ]
     },
     "metadata": {},
     "output_type": "display_data"
    }
   ],
   "source": [
    "# just a sanity check (this should be same as the confusion matrix above)\n",
    "sns.countplot(df_l['results']);"
   ]
  },
  {
   "cell_type": "code",
   "execution_count": 218,
   "metadata": {},
   "outputs": [
    {
     "data": {
      "application/vnd.plotly.v1+json": {
       "config": {
        "linkText": "Export to plot.ly",
        "plotlyServerURL": "https://plot.ly",
        "responsive": true,
        "showLink": false
       },
       "data": [
        {
         "alignmentgroup": "True",
         "hoverlabel": {
          "namelength": 0
         },
         "hovertemplate": "results=FN<br>category=%{x}<br>channelId=%{y}",
         "legendgroup": "results=FN",
         "marker": {
          "color": "red"
         },
         "name": "results=FN",
         "offsetgroup": "results=FN",
         "orientation": "v",
         "showlegend": true,
         "textposition": "auto",
         "type": "bar",
         "uid": "e0c0f0c8-7d9b-4ccd-a182-63daa3715978",
         "x": [
          "Comedy",
          "Education",
          "Entertainment",
          "Film & Animation",
          "Gaming",
          "How-to & Style",
          "News & Politics",
          "People & Blogs",
          "Pets & Animals",
          "Science & Technology",
          "Sports"
         ],
         "xaxis": "x",
         "y": [
          null,
          null,
          null,
          null,
          null,
          null,
          null,
          3,
          null,
          null,
          null
         ],
         "yaxis": "y"
        },
        {
         "alignmentgroup": "True",
         "hoverlabel": {
          "namelength": 0
         },
         "hovertemplate": "results=FP<br>category=%{x}<br>channelId=%{y}",
         "legendgroup": "results=FP",
         "marker": {
          "color": "darkred"
         },
         "name": "results=FP",
         "offsetgroup": "results=FP",
         "orientation": "v",
         "showlegend": true,
         "textposition": "auto",
         "type": "bar",
         "uid": "4db00b29-142b-4e7b-9cb3-0b70ea40dcc1",
         "x": [
          "Comedy",
          "Education",
          "Entertainment",
          "Film & Animation",
          "Gaming",
          "How-to & Style",
          "News & Politics",
          "People & Blogs",
          "Pets & Animals",
          "Science & Technology",
          "Sports"
         ],
         "xaxis": "x",
         "y": [
          null,
          4,
          1,
          1,
          null,
          1,
          null,
          3,
          null,
          1,
          null
         ],
         "yaxis": "y"
        },
        {
         "alignmentgroup": "True",
         "hoverlabel": {
          "namelength": 0
         },
         "hovertemplate": "results=TN<br>category=%{x}<br>channelId=%{y}",
         "legendgroup": "results=TN",
         "marker": {
          "color": "green"
         },
         "name": "results=TN",
         "offsetgroup": "results=TN",
         "orientation": "v",
         "showlegend": true,
         "textposition": "auto",
         "type": "bar",
         "uid": "5e995945-b23c-442d-8e08-2db34cc24856",
         "x": [
          "Comedy",
          "Education",
          "Entertainment",
          "Film & Animation",
          "Gaming",
          "How-to & Style",
          "News & Politics",
          "People & Blogs",
          "Pets & Animals",
          "Science & Technology",
          "Sports"
         ],
         "xaxis": "x",
         "y": [
          null,
          4,
          3,
          null,
          3,
          4,
          3,
          9,
          2,
          5,
          1
         ],
         "yaxis": "y"
        },
        {
         "alignmentgroup": "True",
         "hoverlabel": {
          "namelength": 0
         },
         "hovertemplate": "results=TP<br>category=%{x}<br>channelId=%{y}",
         "legendgroup": "results=TP",
         "marker": {
          "color": "darkgreen"
         },
         "name": "results=TP",
         "offsetgroup": "results=TP",
         "orientation": "v",
         "showlegend": true,
         "textposition": "auto",
         "type": "bar",
         "uid": "da2f43cf-e49d-4291-b63a-1898a05d1147",
         "x": [
          "Comedy",
          "Education",
          "Entertainment",
          "Film & Animation",
          "Gaming",
          "How-to & Style",
          "News & Politics",
          "People & Blogs",
          "Pets & Animals",
          "Science & Technology",
          "Sports"
         ],
         "xaxis": "x",
         "y": [
          1,
          3,
          null,
          null,
          null,
          null,
          null,
          7,
          null,
          9,
          null
         ],
         "yaxis": "y"
        }
       ],
       "layout": {
        "barmode": "relative",
        "grid": {
         "xaxes": [
          "x"
         ],
         "xgap": 0.1,
         "xside": "bottom",
         "yaxes": [
          "y"
         ],
         "ygap": 0.1,
         "yside": "left"
        },
        "height": 500,
        "legend": {
         "tracegroupgap": 0
        },
        "margin": {
         "t": 60
        },
        "template": {
         "data": {
          "bar": [
           {
            "marker": {
             "line": {
              "color": "#E5ECF6",
              "width": 0.5
             }
            },
            "type": "bar"
           }
          ],
          "barpolar": [
           {
            "marker": {
             "line": {
              "color": "#E5ECF6",
              "width": 0.5
             }
            },
            "type": "barpolar"
           }
          ],
          "carpet": [
           {
            "aaxis": {
             "endlinecolor": "#2a3f5f",
             "gridcolor": "white",
             "linecolor": "white",
             "minorgridcolor": "white",
             "startlinecolor": "#2a3f5f"
            },
            "baxis": {
             "endlinecolor": "#2a3f5f",
             "gridcolor": "white",
             "linecolor": "white",
             "minorgridcolor": "white",
             "startlinecolor": "#2a3f5f"
            },
            "type": "carpet"
           }
          ],
          "choropleth": [
           {
            "colorbar": {
             "outlinewidth": 0,
             "ticks": ""
            },
            "type": "choropleth"
           }
          ],
          "contour": [
           {
            "colorbar": {
             "outlinewidth": 0,
             "ticks": ""
            },
            "colorscale": [
             [
              0,
              "#0508b8"
             ],
             [
              0.0893854748603352,
              "#1910d8"
             ],
             [
              0.1787709497206704,
              "#3c19f0"
             ],
             [
              0.2681564245810056,
              "#6b1cfb"
             ],
             [
              0.3575418994413408,
              "#981cfd"
             ],
             [
              0.44692737430167595,
              "#bf1cfd"
             ],
             [
              0.5363128491620112,
              "#dd2bfd"
             ],
             [
              0.6256983240223464,
              "#f246fe"
             ],
             [
              0.7150837988826816,
              "#fc67fd"
             ],
             [
              0.8044692737430168,
              "#fe88fc"
             ],
             [
              0.8938547486033519,
              "#fea5fd"
             ],
             [
              0.9832402234636871,
              "#febefe"
             ],
             [
              1,
              "#fec3fe"
             ]
            ],
            "type": "contour"
           }
          ],
          "contourcarpet": [
           {
            "colorbar": {
             "outlinewidth": 0,
             "ticks": ""
            },
            "type": "contourcarpet"
           }
          ],
          "heatmap": [
           {
            "colorbar": {
             "outlinewidth": 0,
             "ticks": ""
            },
            "colorscale": [
             [
              0,
              "#0508b8"
             ],
             [
              0.0893854748603352,
              "#1910d8"
             ],
             [
              0.1787709497206704,
              "#3c19f0"
             ],
             [
              0.2681564245810056,
              "#6b1cfb"
             ],
             [
              0.3575418994413408,
              "#981cfd"
             ],
             [
              0.44692737430167595,
              "#bf1cfd"
             ],
             [
              0.5363128491620112,
              "#dd2bfd"
             ],
             [
              0.6256983240223464,
              "#f246fe"
             ],
             [
              0.7150837988826816,
              "#fc67fd"
             ],
             [
              0.8044692737430168,
              "#fe88fc"
             ],
             [
              0.8938547486033519,
              "#fea5fd"
             ],
             [
              0.9832402234636871,
              "#febefe"
             ],
             [
              1,
              "#fec3fe"
             ]
            ],
            "type": "heatmap"
           }
          ],
          "heatmapgl": [
           {
            "colorbar": {
             "outlinewidth": 0,
             "ticks": ""
            },
            "type": "heatmapgl"
           }
          ],
          "histogram": [
           {
            "marker": {
             "colorbar": {
              "outlinewidth": 0,
              "ticks": ""
             }
            },
            "type": "histogram"
           }
          ],
          "histogram2d": [
           {
            "colorbar": {
             "outlinewidth": 0,
             "ticks": ""
            },
            "colorscale": [
             [
              0,
              "#0508b8"
             ],
             [
              0.0893854748603352,
              "#1910d8"
             ],
             [
              0.1787709497206704,
              "#3c19f0"
             ],
             [
              0.2681564245810056,
              "#6b1cfb"
             ],
             [
              0.3575418994413408,
              "#981cfd"
             ],
             [
              0.44692737430167595,
              "#bf1cfd"
             ],
             [
              0.5363128491620112,
              "#dd2bfd"
             ],
             [
              0.6256983240223464,
              "#f246fe"
             ],
             [
              0.7150837988826816,
              "#fc67fd"
             ],
             [
              0.8044692737430168,
              "#fe88fc"
             ],
             [
              0.8938547486033519,
              "#fea5fd"
             ],
             [
              0.9832402234636871,
              "#febefe"
             ],
             [
              1,
              "#fec3fe"
             ]
            ],
            "type": "histogram2d"
           }
          ],
          "histogram2dcontour": [
           {
            "colorbar": {
             "outlinewidth": 0,
             "ticks": ""
            },
            "colorscale": [
             [
              0,
              "#0508b8"
             ],
             [
              0.0893854748603352,
              "#1910d8"
             ],
             [
              0.1787709497206704,
              "#3c19f0"
             ],
             [
              0.2681564245810056,
              "#6b1cfb"
             ],
             [
              0.3575418994413408,
              "#981cfd"
             ],
             [
              0.44692737430167595,
              "#bf1cfd"
             ],
             [
              0.5363128491620112,
              "#dd2bfd"
             ],
             [
              0.6256983240223464,
              "#f246fe"
             ],
             [
              0.7150837988826816,
              "#fc67fd"
             ],
             [
              0.8044692737430168,
              "#fe88fc"
             ],
             [
              0.8938547486033519,
              "#fea5fd"
             ],
             [
              0.9832402234636871,
              "#febefe"
             ],
             [
              1,
              "#fec3fe"
             ]
            ],
            "type": "histogram2dcontour"
           }
          ],
          "mesh3d": [
           {
            "colorbar": {
             "outlinewidth": 0,
             "ticks": ""
            },
            "type": "mesh3d"
           }
          ],
          "parcoords": [
           {
            "line": {
             "colorbar": {
              "outlinewidth": 0,
              "ticks": ""
             }
            },
            "type": "parcoords"
           }
          ],
          "scatter": [
           {
            "marker": {
             "colorbar": {
              "outlinewidth": 0,
              "ticks": ""
             }
            },
            "type": "scatter"
           }
          ],
          "scatter3d": [
           {
            "marker": {
             "colorbar": {
              "outlinewidth": 0,
              "ticks": ""
             }
            },
            "type": "scatter3d"
           }
          ],
          "scattercarpet": [
           {
            "marker": {
             "colorbar": {
              "outlinewidth": 0,
              "ticks": ""
             }
            },
            "type": "scattercarpet"
           }
          ],
          "scattergeo": [
           {
            "marker": {
             "colorbar": {
              "outlinewidth": 0,
              "ticks": ""
             }
            },
            "type": "scattergeo"
           }
          ],
          "scattergl": [
           {
            "marker": {
             "colorbar": {
              "outlinewidth": 0,
              "ticks": ""
             }
            },
            "type": "scattergl"
           }
          ],
          "scattermapbox": [
           {
            "marker": {
             "colorbar": {
              "outlinewidth": 0,
              "ticks": ""
             }
            },
            "type": "scattermapbox"
           }
          ],
          "scatterpolar": [
           {
            "marker": {
             "colorbar": {
              "outlinewidth": 0,
              "ticks": ""
             }
            },
            "type": "scatterpolar"
           }
          ],
          "scatterpolargl": [
           {
            "marker": {
             "colorbar": {
              "outlinewidth": 0,
              "ticks": ""
             }
            },
            "type": "scatterpolargl"
           }
          ],
          "scatterternary": [
           {
            "marker": {
             "colorbar": {
              "outlinewidth": 0,
              "ticks": ""
             }
            },
            "type": "scatterternary"
           }
          ],
          "surface": [
           {
            "colorbar": {
             "outlinewidth": 0,
             "ticks": ""
            },
            "type": "surface"
           }
          ],
          "table": [
           {
            "cells": {
             "fill": {
              "color": "#EBF0F8"
             },
             "line": {
              "color": "white"
             }
            },
            "header": {
             "fill": {
              "color": "#C8D4E3"
             },
             "line": {
              "color": "white"
             }
            },
            "type": "table"
           }
          ]
         },
         "layout": {
          "annotationdefaults": {
           "arrowcolor": "#506784",
           "arrowhead": 0,
           "arrowwidth": 1
          },
          "colorscale": {
           "diverging": [
            [
             0,
             "#8e0152"
            ],
            [
             0.1,
             "#c51b7d"
            ],
            [
             0.2,
             "#de77ae"
            ],
            [
             0.3,
             "#f1b6da"
            ],
            [
             0.4,
             "#fde0ef"
            ],
            [
             0.5,
             "#f7f7f7"
            ],
            [
             0.6,
             "#e6f5d0"
            ],
            [
             0.7,
             "#b8e186"
            ],
            [
             0.8,
             "#7fbc41"
            ],
            [
             0.9,
             "#4d9221"
            ],
            [
             1,
             "#276419"
            ]
           ],
           "sequential": [
            [
             0,
             "#0508b8"
            ],
            [
             0.0893854748603352,
             "#1910d8"
            ],
            [
             0.1787709497206704,
             "#3c19f0"
            ],
            [
             0.2681564245810056,
             "#6b1cfb"
            ],
            [
             0.3575418994413408,
             "#981cfd"
            ],
            [
             0.44692737430167595,
             "#bf1cfd"
            ],
            [
             0.5363128491620112,
             "#dd2bfd"
            ],
            [
             0.6256983240223464,
             "#f246fe"
            ],
            [
             0.7150837988826816,
             "#fc67fd"
            ],
            [
             0.8044692737430168,
             "#fe88fc"
            ],
            [
             0.8938547486033519,
             "#fea5fd"
            ],
            [
             0.9832402234636871,
             "#febefe"
            ],
            [
             1,
             "#fec3fe"
            ]
           ],
           "sequentialminus": [
            [
             0,
             "#0508b8"
            ],
            [
             0.0893854748603352,
             "#1910d8"
            ],
            [
             0.1787709497206704,
             "#3c19f0"
            ],
            [
             0.2681564245810056,
             "#6b1cfb"
            ],
            [
             0.3575418994413408,
             "#981cfd"
            ],
            [
             0.44692737430167595,
             "#bf1cfd"
            ],
            [
             0.5363128491620112,
             "#dd2bfd"
            ],
            [
             0.6256983240223464,
             "#f246fe"
            ],
            [
             0.7150837988826816,
             "#fc67fd"
            ],
            [
             0.8044692737430168,
             "#fe88fc"
            ],
            [
             0.8938547486033519,
             "#fea5fd"
            ],
            [
             0.9832402234636871,
             "#febefe"
            ],
            [
             1,
             "#fec3fe"
            ]
           ]
          },
          "colorway": [
           "#636efa",
           "#EF553B",
           "#00cc96",
           "#ab63fa",
           "#19d3f3",
           "#e763fa",
           "#FECB52",
           "#FFA15A",
           "#FF6692",
           "#B6E880"
          ],
          "font": {
           "color": "#2a3f5f"
          },
          "geo": {
           "bgcolor": "white",
           "lakecolor": "white",
           "landcolor": "#E5ECF6",
           "showlakes": true,
           "showland": true,
           "subunitcolor": "white"
          },
          "hoverlabel": {
           "align": "left"
          },
          "hovermode": "closest",
          "mapbox": {
           "style": "light"
          },
          "paper_bgcolor": "white",
          "plot_bgcolor": "#E5ECF6",
          "polar": {
           "angularaxis": {
            "gridcolor": "white",
            "linecolor": "white",
            "ticks": ""
           },
           "bgcolor": "#E5ECF6",
           "radialaxis": {
            "gridcolor": "white",
            "linecolor": "white",
            "ticks": ""
           }
          },
          "scene": {
           "xaxis": {
            "backgroundcolor": "#E5ECF6",
            "gridcolor": "white",
            "gridwidth": 2,
            "linecolor": "white",
            "showbackground": true,
            "ticks": "",
            "zerolinecolor": "white"
           },
           "yaxis": {
            "backgroundcolor": "#E5ECF6",
            "gridcolor": "white",
            "gridwidth": 2,
            "linecolor": "white",
            "showbackground": true,
            "ticks": "",
            "zerolinecolor": "white"
           },
           "zaxis": {
            "backgroundcolor": "#E5ECF6",
            "gridcolor": "white",
            "gridwidth": 2,
            "linecolor": "white",
            "showbackground": true,
            "ticks": "",
            "zerolinecolor": "white"
           }
          },
          "shapedefaults": {
           "fillcolor": "#506784",
           "line": {
            "width": 0
           },
           "opacity": 0.4
          },
          "ternary": {
           "aaxis": {
            "gridcolor": "white",
            "linecolor": "white",
            "ticks": ""
           },
           "baxis": {
            "gridcolor": "white",
            "linecolor": "white",
            "ticks": ""
           },
           "bgcolor": "#E5ECF6",
           "caxis": {
            "gridcolor": "white",
            "linecolor": "white",
            "ticks": ""
           }
          },
          "title": {
           "x": 0.05
          },
          "xaxis": {
           "automargin": true,
           "gridcolor": "white",
           "linecolor": "white",
           "ticks": "",
           "zerolinecolor": "white",
           "zerolinewidth": 2
          },
          "yaxis": {
           "automargin": true,
           "gridcolor": "white",
           "linecolor": "white",
           "ticks": "",
           "zerolinecolor": "white",
           "zerolinewidth": 2
          }
         }
        },
        "title": {
         "text": "Classification Results by Category<br>P = Fraudulent, N = Benign"
        },
        "width": 800,
        "xaxis": {
         "autorange": true,
         "range": [
          -0.5,
          10.5
         ],
         "title": {
          "text": "category"
         },
         "type": "category"
        },
        "yaxis": {
         "autorange": true,
         "range": [
          0,
          23.157894736842106
         ],
         "title": {
          "text": "Count"
         },
         "type": "linear"
        }
       }
      },
      "image/png": "[encoded data removed]",
      "text/html": [
       "<div>\n",
       "        \n",
       "        \n",
       "            <div id=\"267971d0-baad-47a1-8bf1-dd98daabc292\" class=\"plotly-graph-div\" style=\"height:500px; width:800px;\"></div>\n",
       "            <script type=\"text/javascript\">\n",
       "                require([\"plotly\"], function(Plotly) {\n",
       "                    window.PLOTLYENV=window.PLOTLYENV || {};\n",
       "                    window.PLOTLYENV.BASE_URL='https://plot.ly';\n",
       "                    \n",
       "                if (document.getElementById(\"267971d0-baad-47a1-8bf1-dd98daabc292\")) {\n",
       "                    Plotly.newPlot(\n",
       "                        '267971d0-baad-47a1-8bf1-dd98daabc292',\n",
       "                        [{\"alignmentgroup\": \"True\", \"hoverlabel\": {\"namelength\": 0}, \"hovertemplate\": \"results=FN<br>category=%{x}<br>channelId=%{y}\", \"legendgroup\": \"results=FN\", \"marker\": {\"color\": \"red\"}, \"name\": \"results=FN\", \"offsetgroup\": \"results=FN\", \"orientation\": \"v\", \"showlegend\": true, \"textposition\": \"auto\", \"type\": \"bar\", \"uid\": \"758d055d-6b92-4a4f-9721-b06c9e411465\", \"x\": [\"Comedy\", \"Education\", \"Entertainment\", \"Film & Animation\", \"Gaming\", \"How-to & Style\", \"News & Politics\", \"People & Blogs\", \"Pets & Animals\", \"Science & Technology\", \"Sports\"], \"xaxis\": \"x\", \"y\": [null, null, null, null, null, null, null, 3.0, null, null, null], \"yaxis\": \"y\"}, {\"alignmentgroup\": \"True\", \"hoverlabel\": {\"namelength\": 0}, \"hovertemplate\": \"results=FP<br>category=%{x}<br>channelId=%{y}\", \"legendgroup\": \"results=FP\", \"marker\": {\"color\": \"darkred\"}, \"name\": \"results=FP\", \"offsetgroup\": \"results=FP\", \"orientation\": \"v\", \"showlegend\": true, \"textposition\": \"auto\", \"type\": \"bar\", \"uid\": \"4108948f-cc1a-42d6-a5f8-057e231428ef\", \"x\": [\"Comedy\", \"Education\", \"Entertainment\", \"Film & Animation\", \"Gaming\", \"How-to & Style\", \"News & Politics\", \"People & Blogs\", \"Pets & Animals\", \"Science & Technology\", \"Sports\"], \"xaxis\": \"x\", \"y\": [null, 4.0, 1.0, 1.0, null, 1.0, null, 3.0, null, 1.0, null], \"yaxis\": \"y\"}, {\"alignmentgroup\": \"True\", \"hoverlabel\": {\"namelength\": 0}, \"hovertemplate\": \"results=TN<br>category=%{x}<br>channelId=%{y}\", \"legendgroup\": \"results=TN\", \"marker\": {\"color\": \"green\"}, \"name\": \"results=TN\", \"offsetgroup\": \"results=TN\", \"orientation\": \"v\", \"showlegend\": true, \"textposition\": \"auto\", \"type\": \"bar\", \"uid\": \"31a37d8a-f62a-4313-9aac-2cffbff914ef\", \"x\": [\"Comedy\", \"Education\", \"Entertainment\", \"Film & Animation\", \"Gaming\", \"How-to & Style\", \"News & Politics\", \"People & Blogs\", \"Pets & Animals\", \"Science & Technology\", \"Sports\"], \"xaxis\": \"x\", \"y\": [null, 4.0, 3.0, null, 3.0, 4.0, 3.0, 9.0, 2.0, 5.0, 1.0], \"yaxis\": \"y\"}, {\"alignmentgroup\": \"True\", \"hoverlabel\": {\"namelength\": 0}, \"hovertemplate\": \"results=TP<br>category=%{x}<br>channelId=%{y}\", \"legendgroup\": \"results=TP\", \"marker\": {\"color\": \"darkgreen\"}, \"name\": \"results=TP\", \"offsetgroup\": \"results=TP\", \"orientation\": \"v\", \"showlegend\": true, \"textposition\": \"auto\", \"type\": \"bar\", \"uid\": \"833da545-8228-4901-aeb7-ec93adb72dc0\", \"x\": [\"Comedy\", \"Education\", \"Entertainment\", \"Film & Animation\", \"Gaming\", \"How-to & Style\", \"News & Politics\", \"People & Blogs\", \"Pets & Animals\", \"Science & Technology\", \"Sports\"], \"xaxis\": \"x\", \"y\": [1.0, 3.0, null, null, null, null, null, 7.0, null, 9.0, null], \"yaxis\": \"y\"}],\n",
       "                        {\"barmode\": \"relative\", \"grid\": {\"xaxes\": [\"x\"], \"xgap\": 0.1, \"xside\": \"bottom\", \"yaxes\": [\"y\"], \"ygap\": 0.1, \"yside\": \"left\"}, \"height\": 500, \"legend\": {\"tracegroupgap\": 0}, \"margin\": {\"t\": 60}, \"template\": {\"data\": {\"bar\": [{\"marker\": {\"line\": {\"color\": \"#E5ECF6\", \"width\": 0.5}}, \"type\": \"bar\"}], \"barpolar\": [{\"marker\": {\"line\": {\"color\": \"#E5ECF6\", \"width\": 0.5}}, \"type\": \"barpolar\"}], \"carpet\": [{\"aaxis\": {\"endlinecolor\": \"#2a3f5f\", \"gridcolor\": \"white\", \"linecolor\": \"white\", \"minorgridcolor\": \"white\", \"startlinecolor\": \"#2a3f5f\"}, \"baxis\": {\"endlinecolor\": \"#2a3f5f\", \"gridcolor\": \"white\", \"linecolor\": \"white\", \"minorgridcolor\": \"white\", \"startlinecolor\": \"#2a3f5f\"}, \"type\": \"carpet\"}], \"choropleth\": [{\"colorbar\": {\"outlinewidth\": 0, \"ticks\": \"\"}, \"type\": \"choropleth\"}], \"contour\": [{\"colorbar\": {\"outlinewidth\": 0, \"ticks\": \"\"}, \"colorscale\": [[0.0, \"#0508b8\"], [0.0893854748603352, \"#1910d8\"], [0.1787709497206704, \"#3c19f0\"], [0.2681564245810056, \"#6b1cfb\"], [0.3575418994413408, \"#981cfd\"], [0.44692737430167595, \"#bf1cfd\"], [0.5363128491620112, \"#dd2bfd\"], [0.6256983240223464, \"#f246fe\"], [0.7150837988826816, \"#fc67fd\"], [0.8044692737430168, \"#fe88fc\"], [0.8938547486033519, \"#fea5fd\"], [0.9832402234636871, \"#febefe\"], [1.0, \"#fec3fe\"]], \"type\": \"contour\"}], \"contourcarpet\": [{\"colorbar\": {\"outlinewidth\": 0, \"ticks\": \"\"}, \"type\": \"contourcarpet\"}], \"heatmap\": [{\"colorbar\": {\"outlinewidth\": 0, \"ticks\": \"\"}, \"colorscale\": [[0.0, \"#0508b8\"], [0.0893854748603352, \"#1910d8\"], [0.1787709497206704, \"#3c19f0\"], [0.2681564245810056, \"#6b1cfb\"], [0.3575418994413408, \"#981cfd\"], [0.44692737430167595, \"#bf1cfd\"], [0.5363128491620112, \"#dd2bfd\"], [0.6256983240223464, \"#f246fe\"], [0.7150837988826816, \"#fc67fd\"], [0.8044692737430168, \"#fe88fc\"], [0.8938547486033519, \"#fea5fd\"], [0.9832402234636871, \"#febefe\"], [1.0, \"#fec3fe\"]], \"type\": \"heatmap\"}], \"heatmapgl\": [{\"colorbar\": {\"outlinewidth\": 0, \"ticks\": \"\"}, \"type\": \"heatmapgl\"}], \"histogram\": [{\"marker\": {\"colorbar\": {\"outlinewidth\": 0, \"ticks\": \"\"}}, \"type\": \"histogram\"}], \"histogram2d\": [{\"colorbar\": {\"outlinewidth\": 0, \"ticks\": \"\"}, \"colorscale\": [[0.0, \"#0508b8\"], [0.0893854748603352, \"#1910d8\"], [0.1787709497206704, \"#3c19f0\"], [0.2681564245810056, \"#6b1cfb\"], [0.3575418994413408, \"#981cfd\"], [0.44692737430167595, \"#bf1cfd\"], [0.5363128491620112, \"#dd2bfd\"], [0.6256983240223464, \"#f246fe\"], [0.7150837988826816, \"#fc67fd\"], [0.8044692737430168, \"#fe88fc\"], [0.8938547486033519, \"#fea5fd\"], [0.9832402234636871, \"#febefe\"], [1.0, \"#fec3fe\"]], \"type\": \"histogram2d\"}], \"histogram2dcontour\": [{\"colorbar\": {\"outlinewidth\": 0, \"ticks\": \"\"}, \"colorscale\": [[0.0, \"#0508b8\"], [0.0893854748603352, \"#1910d8\"], [0.1787709497206704, \"#3c19f0\"], [0.2681564245810056, \"#6b1cfb\"], [0.3575418994413408, \"#981cfd\"], [0.44692737430167595, \"#bf1cfd\"], [0.5363128491620112, \"#dd2bfd\"], [0.6256983240223464, \"#f246fe\"], [0.7150837988826816, \"#fc67fd\"], [0.8044692737430168, \"#fe88fc\"], [0.8938547486033519, \"#fea5fd\"], [0.9832402234636871, \"#febefe\"], [1.0, \"#fec3fe\"]], \"type\": \"histogram2dcontour\"}], \"mesh3d\": [{\"colorbar\": {\"outlinewidth\": 0, \"ticks\": \"\"}, \"type\": \"mesh3d\"}], \"parcoords\": [{\"line\": {\"colorbar\": {\"outlinewidth\": 0, \"ticks\": \"\"}}, \"type\": \"parcoords\"}], \"scatter\": [{\"marker\": {\"colorbar\": {\"outlinewidth\": 0, \"ticks\": \"\"}}, \"type\": \"scatter\"}], \"scatter3d\": [{\"marker\": {\"colorbar\": {\"outlinewidth\": 0, \"ticks\": \"\"}}, \"type\": \"scatter3d\"}], \"scattercarpet\": [{\"marker\": {\"colorbar\": {\"outlinewidth\": 0, \"ticks\": \"\"}}, \"type\": \"scattercarpet\"}], \"scattergeo\": [{\"marker\": {\"colorbar\": {\"outlinewidth\": 0, \"ticks\": \"\"}}, \"type\": \"scattergeo\"}], \"scattergl\": [{\"marker\": {\"colorbar\": {\"outlinewidth\": 0, \"ticks\": \"\"}}, \"type\": \"scattergl\"}], \"scattermapbox\": [{\"marker\": {\"colorbar\": {\"outlinewidth\": 0, \"ticks\": \"\"}}, \"type\": \"scattermapbox\"}], \"scatterpolar\": [{\"marker\": {\"colorbar\": {\"outlinewidth\": 0, \"ticks\": \"\"}}, \"type\": \"scatterpolar\"}], \"scatterpolargl\": [{\"marker\": {\"colorbar\": {\"outlinewidth\": 0, \"ticks\": \"\"}}, \"type\": \"scatterpolargl\"}], \"scatterternary\": [{\"marker\": {\"colorbar\": {\"outlinewidth\": 0, \"ticks\": \"\"}}, \"type\": \"scatterternary\"}], \"surface\": [{\"colorbar\": {\"outlinewidth\": 0, \"ticks\": \"\"}, \"type\": \"surface\"}], \"table\": [{\"cells\": {\"fill\": {\"color\": \"#EBF0F8\"}, \"line\": {\"color\": \"white\"}}, \"header\": {\"fill\": {\"color\": \"#C8D4E3\"}, \"line\": {\"color\": \"white\"}}, \"type\": \"table\"}]}, \"layout\": {\"annotationdefaults\": {\"arrowcolor\": \"#506784\", \"arrowhead\": 0, \"arrowwidth\": 1}, \"colorscale\": {\"diverging\": [[0, \"#8e0152\"], [0.1, \"#c51b7d\"], [0.2, \"#de77ae\"], [0.3, \"#f1b6da\"], [0.4, \"#fde0ef\"], [0.5, \"#f7f7f7\"], [0.6, \"#e6f5d0\"], [0.7, \"#b8e186\"], [0.8, \"#7fbc41\"], [0.9, \"#4d9221\"], [1, \"#276419\"]], \"sequential\": [[0.0, \"#0508b8\"], [0.0893854748603352, \"#1910d8\"], [0.1787709497206704, \"#3c19f0\"], [0.2681564245810056, \"#6b1cfb\"], [0.3575418994413408, \"#981cfd\"], [0.44692737430167595, \"#bf1cfd\"], [0.5363128491620112, \"#dd2bfd\"], [0.6256983240223464, \"#f246fe\"], [0.7150837988826816, \"#fc67fd\"], [0.8044692737430168, \"#fe88fc\"], [0.8938547486033519, \"#fea5fd\"], [0.9832402234636871, \"#febefe\"], [1.0, \"#fec3fe\"]], \"sequentialminus\": [[0.0, \"#0508b8\"], [0.0893854748603352, \"#1910d8\"], [0.1787709497206704, \"#3c19f0\"], [0.2681564245810056, \"#6b1cfb\"], [0.3575418994413408, \"#981cfd\"], [0.44692737430167595, \"#bf1cfd\"], [0.5363128491620112, \"#dd2bfd\"], [0.6256983240223464, \"#f246fe\"], [0.7150837988826816, \"#fc67fd\"], [0.8044692737430168, \"#fe88fc\"], [0.8938547486033519, \"#fea5fd\"], [0.9832402234636871, \"#febefe\"], [1.0, \"#fec3fe\"]]}, \"colorway\": [\"#636efa\", \"#EF553B\", \"#00cc96\", \"#ab63fa\", \"#19d3f3\", \"#e763fa\", \"#FECB52\", \"#FFA15A\", \"#FF6692\", \"#B6E880\"], \"font\": {\"color\": \"#2a3f5f\"}, \"geo\": {\"bgcolor\": \"white\", \"lakecolor\": \"white\", \"landcolor\": \"#E5ECF6\", \"showlakes\": true, \"showland\": true, \"subunitcolor\": \"white\"}, \"hoverlabel\": {\"align\": \"left\"}, \"hovermode\": \"closest\", \"mapbox\": {\"style\": \"light\"}, \"paper_bgcolor\": \"white\", \"plot_bgcolor\": \"#E5ECF6\", \"polar\": {\"angularaxis\": {\"gridcolor\": \"white\", \"linecolor\": \"white\", \"ticks\": \"\"}, \"bgcolor\": \"#E5ECF6\", \"radialaxis\": {\"gridcolor\": \"white\", \"linecolor\": \"white\", \"ticks\": \"\"}}, \"scene\": {\"xaxis\": {\"backgroundcolor\": \"#E5ECF6\", \"gridcolor\": \"white\", \"gridwidth\": 2, \"linecolor\": \"white\", \"showbackground\": true, \"ticks\": \"\", \"zerolinecolor\": \"white\"}, \"yaxis\": {\"backgroundcolor\": \"#E5ECF6\", \"gridcolor\": \"white\", \"gridwidth\": 2, \"linecolor\": \"white\", \"showbackground\": true, \"ticks\": \"\", \"zerolinecolor\": \"white\"}, \"zaxis\": {\"backgroundcolor\": \"#E5ECF6\", \"gridcolor\": \"white\", \"gridwidth\": 2, \"linecolor\": \"white\", \"showbackground\": true, \"ticks\": \"\", \"zerolinecolor\": \"white\"}}, \"shapedefaults\": {\"fillcolor\": \"#506784\", \"line\": {\"width\": 0}, \"opacity\": 0.4}, \"ternary\": {\"aaxis\": {\"gridcolor\": \"white\", \"linecolor\": \"white\", \"ticks\": \"\"}, \"baxis\": {\"gridcolor\": \"white\", \"linecolor\": \"white\", \"ticks\": \"\"}, \"bgcolor\": \"#E5ECF6\", \"caxis\": {\"gridcolor\": \"white\", \"linecolor\": \"white\", \"ticks\": \"\"}}, \"title\": {\"x\": 0.05}, \"xaxis\": {\"automargin\": true, \"gridcolor\": \"white\", \"linecolor\": \"white\", \"ticks\": \"\", \"zerolinecolor\": \"white\", \"zerolinewidth\": 2}, \"yaxis\": {\"automargin\": true, \"gridcolor\": \"white\", \"linecolor\": \"white\", \"ticks\": \"\", \"zerolinecolor\": \"white\", \"zerolinewidth\": 2}}}, \"title\": {\"text\": \"Classification Results by Category<br>P = Fraudulent, N = Benign\"}, \"width\": 800, \"xaxis\": {\"title\": {\"text\": \"category\"}}, \"yaxis\": {\"title\": {\"text\": \"Count\"}}},\n",
       "                        {\"showLink\": false, \"linkText\": \"Export to plot.ly\", \"plotlyServerURL\": \"https://plot.ly\", \"responsive\": true}\n",
       "                    ).then(function(){\n",
       "                            \n",
       "var gd = document.getElementById('267971d0-baad-47a1-8bf1-dd98daabc292');\n",
       "var x = new MutationObserver(function (mutations, observer) {{\n",
       "        var display = window.getComputedStyle(gd).display;\n",
       "        if (!display || display === 'none') {{\n",
       "            console.log([gd, 'removed!']);\n",
       "            Plotly.purge(gd);\n",
       "            observer.disconnect();\n",
       "        }}\n",
       "}});\n",
       "\n",
       "// Listen for the removal of the full notebook cells\n",
       "var notebookContainer = gd.closest('#notebook-container');\n",
       "if (notebookContainer) {{\n",
       "    x.observe(notebookContainer, {childList: true});\n",
       "}}\n",
       "\n",
       "// Listen for the clearing of the current output cell\n",
       "var outputEl = gd.closest('.output');\n",
       "if (outputEl) {{\n",
       "    x.observe(outputEl, {childList: true});\n",
       "}}\n",
       "\n",
       "                        })\n",
       "                };\n",
       "                });\n",
       "            </script>\n",
       "        </div>"
      ]
     },
     "metadata": {},
     "output_type": "display_data"
    }
   ],
   "source": [
    "color_map = {\n",
    "    'TP': 'darkgreen',\n",
    "    'TN': 'green',\n",
    "    'FP': 'darkred',\n",
    "    'FN': 'red',\n",
    "}\n",
    "fig = px.bar(df_l.groupby(['category', 'results']).count()['channelId'].reset_index(), \n",
    "             x='category', y='channelId', color='results', color_discrete_map=color_map)\n",
    "fig.layout.height = 500\n",
    "fig.layout.width = 800\n",
    "fig.layout.yaxis.title = 'Count'\n",
    "fig.layout.title = 'Classification Results by Category<br>P = Fraudulent, N = Benign'\n",
    "\n",
    "fig"
   ]
  },
  {
   "cell_type": "code",
   "execution_count": null,
   "metadata": {},
   "outputs": [],
   "source": []
  },
  {
   "cell_type": "code",
   "execution_count": null,
   "metadata": {},
   "outputs": [],
   "source": []
  },
  {
   "cell_type": "code",
   "execution_count": null,
   "metadata": {},
   "outputs": [],
   "source": []
  },
  {
   "cell_type": "code",
   "execution_count": null,
   "metadata": {},
   "outputs": [],
   "source": []
  },
  {
   "cell_type": "code",
   "execution_count": null,
   "metadata": {},
   "outputs": [],
   "source": []
  },
  {
   "cell_type": "code",
   "execution_count": null,
   "metadata": {},
   "outputs": [],
   "source": []
  }
 ],
 "metadata": {
  "kernelspec": {
   "display_name": "Python 3",
   "language": "python",
   "name": "python3"
  },
  "language_info": {
   "codemirror_mode": {
    "name": "ipython",
    "version": 3
   },
   "file_extension": ".py",
   "mimetype": "text/x-python",
   "name": "python",
   "nbconvert_exporter": "python",
   "pygments_lexer": "ipython3",
   "version": "3.7.1"
  }
 },
 "nbformat": 4,
 "nbformat_minor": 2
}
