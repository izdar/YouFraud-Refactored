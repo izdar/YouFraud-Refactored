{
 "cells": [
  {
   "cell_type": "code",
   "execution_count": 1,
   "metadata": {},
   "outputs": [],
   "source": [
    "import numpy as np\n",
    "import pandas as pd\n",
    "import matplotlib.pyplot as plt\n",
    "%matplotlib inline\n",
    "import seaborn as sns\n",
    "sns.set()\n",
    "\n",
    "from nltk.tokenize import RegexpTokenizer\n",
    "from nltk.stem import PorterStemmer\n",
    "from stop_words import get_stop_words\n",
    "from sklearn.model_selection import train_test_split, learning_curve, GridSearchCV, KFold\n",
    "from sklearn.feature_extraction.text import CountVectorizer\n",
    "from sklearn.ensemble import RandomForestClassifier\n",
    "from sklearn.tree import export_graphviz\n",
    "from sklearn.metrics import classification_report, confusion_matrix, roc_curve, roc_auc_score\n",
    "from yellowbrick.features.importances import FeatureImportances\n",
    "import pickle\n",
    "import os"
   ]
  },
  {
   "cell_type": "markdown",
   "metadata": {},
   "source": [
    "### clean"
   ]
  },
  {
   "cell_type": "code",
   "execution_count": 2,
   "metadata": {},
   "outputs": [
    {
     "name": "stdout",
     "output_type": "stream",
     "text": [
      "(38459, 14)\n"
     ]
    },
    {
     "data": {
      "text/html": [
       "<div>\n",
       "<style scoped>\n",
       "    .dataframe tbody tr th:only-of-type {\n",
       "        vertical-align: middle;\n",
       "    }\n",
       "\n",
       "    .dataframe tbody tr th {\n",
       "        vertical-align: top;\n",
       "    }\n",
       "\n",
       "    .dataframe thead th {\n",
       "        text-align: right;\n",
       "    }\n",
       "</style>\n",
       "<table border=\"1\" class=\"dataframe\">\n",
       "  <thead>\n",
       "    <tr style=\"text-align: right;\">\n",
       "      <th></th>\n",
       "      <th>viewCount</th>\n",
       "      <th>description</th>\n",
       "      <th>tags</th>\n",
       "      <th>predClass</th>\n",
       "      <th>channelId</th>\n",
       "      <th>videoId</th>\n",
       "      <th>comments</th>\n",
       "      <th>categoryId</th>\n",
       "      <th>commentCount</th>\n",
       "      <th>channelTitle</th>\n",
       "      <th>redirectedDomains</th>\n",
       "      <th>domains</th>\n",
       "      <th>title</th>\n",
       "      <th>completeDomains</th>\n",
       "    </tr>\n",
       "  </thead>\n",
       "  <tbody>\n",
       "    <tr>\n",
       "      <th>0</th>\n",
       "      <td>298744</td>\n",
       "      <td>After months of searching for a constant onlin...</td>\n",
       "      <td>[Money (TV Episode), How-to (Media Genre), Bus...</td>\n",
       "      <td>f</td>\n",
       "      <td>UCFqanUMpCMh54RmqRFh8hZw</td>\n",
       "      <td>dFotOUq0Z4E</td>\n",
       "      <td>[over $34,000 was added to my paypal and that ...</td>\n",
       "      <td>22</td>\n",
       "      <td>240</td>\n",
       "      <td>ProfitClicksDelux</td>\n",
       "      <td>[http://www.neobux.com/?r=dirven, https://imgu...</td>\n",
       "      <td>[neobux, imgur]</td>\n",
       "      <td>How to make money online just by clicking ads ...</td>\n",
       "      <td>[http://www.neobux.com/?r=dirven, http://imgur...</td>\n",
       "    </tr>\n",
       "    <tr>\n",
       "      <th>1</th>\n",
       "      <td>44244</td>\n",
       "      <td>hii.\\nfriends.\\n[[[[[[[[[[[[[[[[[[[[[[[[[[[[th...</td>\n",
       "      <td>[earn money, how to, ads, paer, click, $5, per...</td>\n",
       "      <td>f</td>\n",
       "      <td>UC775w8nPdhDCVJ4IkCczVPw</td>\n",
       "      <td>xO5B6JcR5TQ</td>\n",
       "      <td>[Earn Money\\r\\nhttps://youtu.be/NsqaXAMhl3k, n...</td>\n",
       "      <td>22</td>\n",
       "      <td>56</td>\n",
       "      <td>Trick Technology</td>\n",
       "      <td>[]</td>\n",
       "      <td>[]</td>\n",
       "      <td>earn money $2.to$5. ads click per day. in hindi.</td>\n",
       "      <td>[]</td>\n",
       "    </tr>\n",
       "    <tr>\n",
       "      <th>2</th>\n",
       "      <td>1066128</td>\n",
       "      <td>Create Free Bitcoin Wallet:- zebpay:- http://l...</td>\n",
       "      <td>[work from home]</td>\n",
       "      <td>f</td>\n",
       "      <td>UCdWrX9xcYhCW4RwwYT22bpg</td>\n",
       "      <td>adh4xyzygBw</td>\n",
       "      <td>[Sir ye site nhi chal rhi bhad ho gyi h kya, M...</td>\n",
       "      <td>26</td>\n",
       "      <td>2105</td>\n",
       "      <td>helpfromankit</td>\n",
       "      <td>[http://link.zebpay.com/ref/REFANKI3843, http:...</td>\n",
       "      <td>[link.zebpay, myadvertisingpays]</td>\n",
       "      <td>view Only 10 Ads Per Day and Earn Money Every ...</td>\n",
       "      <td>[http://link.zebpay.com/ref/REFANKI3843, http:...</td>\n",
       "    </tr>\n",
       "    <tr>\n",
       "      <th>3</th>\n",
       "      <td>7567</td>\n",
       "      <td>My #1 Recommendation To Earning Income Online ...</td>\n",
       "      <td>[make money online, tyler pratt, tylerpratt, e...</td>\n",
       "      <td>f</td>\n",
       "      <td>UCRfWuSls0R7jQazuddXiPvQ</td>\n",
       "      <td>H1KmFXp2Ymg</td>\n",
       "      <td>[Didn't work, The  real  big  money??   LOL cl...</td>\n",
       "      <td>26</td>\n",
       "      <td>9</td>\n",
       "      <td>Tyler Pratt</td>\n",
       "      <td>[https://go.tylerpratt.com/, https://go.tylerp...</td>\n",
       "      <td>[go.tylerpratt, go.tylerpratt, facebook, insta...</td>\n",
       "      <td>Easy Side Online Job Clicking Ads and Making M...</td>\n",
       "      <td>[http://go.tylerpratt.com/, http://go.tylerpra...</td>\n",
       "    </tr>\n",
       "    <tr>\n",
       "      <th>4</th>\n",
       "      <td>9107</td>\n",
       "      <td>Please watch: \"how to earn money from internet...</td>\n",
       "      <td>[Earn money By Click Ads, make money online, m...</td>\n",
       "      <td>f</td>\n",
       "      <td>UCupgYB_GTCWX6BLh-Ui_VFg</td>\n",
       "      <td>-YtKEcbVsKE</td>\n",
       "      <td>[madarchod Frank hi, If you have website and e...</td>\n",
       "      <td>28</td>\n",
       "      <td>19</td>\n",
       "      <td>Tech 4 Digital</td>\n",
       "      <td>[https://www.youtube.com/watch?v=DBZOdbHELXU, ...</td>\n",
       "      <td>[youtube, youtube, youtube, youtube, youtube, ...</td>\n",
       "      <td>Make money by Click ads क्लिक करके पैसे कमाओ  ...</td>\n",
       "      <td>[https://www.youtube.com/watch?v=DBZOdbHELXU, ...</td>\n",
       "    </tr>\n",
       "  </tbody>\n",
       "</table>\n",
       "</div>"
      ],
      "text/plain": [
       "  viewCount                                        description  \\\n",
       "0    298744  After months of searching for a constant onlin...   \n",
       "1     44244  hii.\\nfriends.\\n[[[[[[[[[[[[[[[[[[[[[[[[[[[[th...   \n",
       "2   1066128  Create Free Bitcoin Wallet:- zebpay:- http://l...   \n",
       "3      7567  My #1 Recommendation To Earning Income Online ...   \n",
       "4      9107  Please watch: \"how to earn money from internet...   \n",
       "\n",
       "                                                tags predClass  \\\n",
       "0  [Money (TV Episode), How-to (Media Genre), Bus...         f   \n",
       "1  [earn money, how to, ads, paer, click, $5, per...         f   \n",
       "2                                   [work from home]         f   \n",
       "3  [make money online, tyler pratt, tylerpratt, e...         f   \n",
       "4  [Earn money By Click Ads, make money online, m...         f   \n",
       "\n",
       "                  channelId      videoId  \\\n",
       "0  UCFqanUMpCMh54RmqRFh8hZw  dFotOUq0Z4E   \n",
       "1  UC775w8nPdhDCVJ4IkCczVPw  xO5B6JcR5TQ   \n",
       "2  UCdWrX9xcYhCW4RwwYT22bpg  adh4xyzygBw   \n",
       "3  UCRfWuSls0R7jQazuddXiPvQ  H1KmFXp2Ymg   \n",
       "4  UCupgYB_GTCWX6BLh-Ui_VFg  -YtKEcbVsKE   \n",
       "\n",
       "                                            comments categoryId commentCount  \\\n",
       "0  [over $34,000 was added to my paypal and that ...         22          240   \n",
       "1  [Earn Money\\r\\nhttps://youtu.be/NsqaXAMhl3k, n...         22           56   \n",
       "2  [Sir ye site nhi chal rhi bhad ho gyi h kya, M...         26         2105   \n",
       "3  [Didn't work, The  real  big  money??   LOL cl...         26            9   \n",
       "4  [madarchod Frank hi, If you have website and e...         28           19   \n",
       "\n",
       "        channelTitle                                  redirectedDomains  \\\n",
       "0  ProfitClicksDelux  [http://www.neobux.com/?r=dirven, https://imgu...   \n",
       "1   Trick Technology                                                 []   \n",
       "2      helpfromankit  [http://link.zebpay.com/ref/REFANKI3843, http:...   \n",
       "3        Tyler Pratt  [https://go.tylerpratt.com/, https://go.tylerp...   \n",
       "4     Tech 4 Digital  [https://www.youtube.com/watch?v=DBZOdbHELXU, ...   \n",
       "\n",
       "                                             domains  \\\n",
       "0                                    [neobux, imgur]   \n",
       "1                                                 []   \n",
       "2                   [link.zebpay, myadvertisingpays]   \n",
       "3  [go.tylerpratt, go.tylerpratt, facebook, insta...   \n",
       "4  [youtube, youtube, youtube, youtube, youtube, ...   \n",
       "\n",
       "                                               title  \\\n",
       "0  How to make money online just by clicking ads ...   \n",
       "1   earn money $2.to$5. ads click per day. in hindi.   \n",
       "2  view Only 10 Ads Per Day and Earn Money Every ...   \n",
       "3  Easy Side Online Job Clicking Ads and Making M...   \n",
       "4  Make money by Click ads क्लिक करके पैसे कमाओ  ...   \n",
       "\n",
       "                                     completeDomains  \n",
       "0  [http://www.neobux.com/?r=dirven, http://imgur...  \n",
       "1                                                 []  \n",
       "2  [http://link.zebpay.com/ref/REFANKI3843, http:...  \n",
       "3  [http://go.tylerpratt.com/, http://go.tylerpra...  \n",
       "4  [https://www.youtube.com/watch?v=DBZOdbHELXU, ...  "
      ]
     },
     "execution_count": 2,
     "metadata": {},
     "output_type": "execute_result"
    }
   ],
   "source": [
    "df = pd.read_json('../../../data/uniqueScaledDataset.json')\n",
    "print(df.shape)\n",
    "df.head()"
   ]
  },
  {
   "cell_type": "code",
   "execution_count": 3,
   "metadata": {},
   "outputs": [
    {
     "data": {
      "text/plain": [
       "True"
      ]
     },
     "execution_count": 3,
     "metadata": {},
     "output_type": "execute_result"
    }
   ],
   "source": [
    "df['videoId'].is_unique"
   ]
  },
  {
   "cell_type": "code",
   "execution_count": 4,
   "metadata": {},
   "outputs": [
    {
     "data": {
      "text/plain": [
       "22777"
      ]
     },
     "execution_count": 4,
     "metadata": {},
     "output_type": "execute_result"
    }
   ],
   "source": [
    "len(df['channelId'].unique())"
   ]
  },
  {
   "cell_type": "code",
   "execution_count": 5,
   "metadata": {},
   "outputs": [
    {
     "data": {
      "text/plain": [
       "viewCount            object\n",
       "description          object\n",
       "tags                 object\n",
       "predClass            object\n",
       "channelId            object\n",
       "videoId              object\n",
       "comments             object\n",
       "categoryId           object\n",
       "commentCount         object\n",
       "channelTitle         object\n",
       "redirectedDomains    object\n",
       "domains              object\n",
       "title                object\n",
       "completeDomains      object\n",
       "dtype: object"
      ]
     },
     "execution_count": 5,
     "metadata": {},
     "output_type": "execute_result"
    }
   ],
   "source": [
    "df.dtypes"
   ]
  },
  {
   "cell_type": "code",
   "execution_count": 9,
   "metadata": {},
   "outputs": [
    {
     "name": "stderr",
     "output_type": "stream",
     "text": [
      "C:\\Users\\ruote\\Anaconda3\\lib\\site-packages\\ipykernel_launcher.py:2: SettingWithCopyWarning: \n",
      "A value is trying to be set on a copy of a slice from a DataFrame\n",
      "\n",
      "See the caveats in the documentation: http://pandas.pydata.org/pandas-docs/stable/indexing.html#indexing-view-versus-copy\n",
      "  \n",
      "C:\\Users\\ruote\\Anaconda3\\lib\\site-packages\\ipykernel_launcher.py:5: SettingWithCopyWarning: \n",
      "A value is trying to be set on a copy of a slice from a DataFrame\n",
      "\n",
      "See the caveats in the documentation: http://pandas.pydata.org/pandas-docs/stable/indexing.html#indexing-view-versus-copy\n",
      "  \"\"\"\n"
     ]
    }
   ],
   "source": [
    "# df['classification'] = df['classification'].astype('category')\n",
    "df['commentCount'][df['commentCount'] == 'No commentCount'] = np.NaN\n",
    "df['commentCount'] = df['commentCount'].astype('float')\n",
    "# df['category'] = df['category'].astype('category')\n",
    "df['viewCount'][df['viewCount'] == 'No viewCount'] = np.NaN\n",
    "df['viewCount'] = df['viewCount'].astype('float')\n",
    "# df['linksCount'] = df['linksCount'].astype('float')"
   ]
  },
  {
   "cell_type": "code",
   "execution_count": 146,
   "metadata": {},
   "outputs": [],
   "source": [
    "df = df[['category', 'channelId', 'channelTitle', 'classification',\n",
    "       'commentCount', 'comments', 'commonMal', 'completeDomains',\n",
    "       'description', 'domains', \n",
    "       'linkContent', 'links', 'linksCount', 'linksDown', 'linksDownCount',\n",
    "       'linksUp', 'redirectedDomains', 'tags', 'title',\n",
    "       'videoId', 'viewCount']]"
   ]
  },
  {
   "cell_type": "code",
   "execution_count": 147,
   "metadata": {},
   "outputs": [],
   "source": [
    "df.to_pickle('../Data Files/merged.pkl')"
   ]
  },
  {
   "cell_type": "code",
   "execution_count": null,
   "metadata": {},
   "outputs": [],
   "source": []
  },
  {
   "cell_type": "code",
   "execution_count": null,
   "metadata": {},
   "outputs": [],
   "source": []
  },
  {
   "cell_type": "code",
   "execution_count": null,
   "metadata": {},
   "outputs": [],
   "source": []
  },
  {
   "cell_type": "code",
   "execution_count": null,
   "metadata": {},
   "outputs": [],
   "source": []
  },
  {
   "cell_type": "code",
   "execution_count": null,
   "metadata": {},
   "outputs": [],
   "source": []
  },
  {
   "cell_type": "code",
   "execution_count": null,
   "metadata": {},
   "outputs": [],
   "source": []
  },
  {
   "cell_type": "code",
   "execution_count": null,
   "metadata": {},
   "outputs": [],
   "source": []
  },
  {
   "cell_type": "code",
   "execution_count": null,
   "metadata": {},
   "outputs": [],
   "source": []
  }
 ],
 "metadata": {
  "kernelspec": {
   "display_name": "Python 3",
   "language": "python",
   "name": "python3"
  },
  "language_info": {
   "codemirror_mode": {
    "name": "ipython",
    "version": 3
   },
   "file_extension": ".py",
   "mimetype": "text/x-python",
   "name": "python",
   "nbconvert_exporter": "python",
   "pygments_lexer": "ipython3",
   "version": "3.7.1"
  }
 },
 "nbformat": 4,
 "nbformat_minor": 2
}
